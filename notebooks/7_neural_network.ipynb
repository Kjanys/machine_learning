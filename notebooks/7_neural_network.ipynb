{
  "nbformat": 4,
  "nbformat_minor": 0,
  "metadata": {
    "colab": {
      "name": "Untitled1.ipynb",
      "provenance": [],
      "toc_visible": true
    },
    "kernelspec": {
      "name": "python3",
      "display_name": "Python 3"
    },
    "language_info": {
      "name": "python"
    }
  },
  "cells": [
    {
      "cell_type": "markdown",
      "metadata": {
        "id": "nLGHwgToyjnl"
      },
      "source": [
        "# Классификация с помощью Keras"
      ]
    },
    {
      "cell_type": "markdown",
      "metadata": {
        "id": "CI0fReM5ynDL"
      },
      "source": [
        "Качество лучшей модели: ~0.85"
      ]
    },
    {
      "cell_type": "markdown",
      "metadata": {
        "id": "4pnkin6ZypwR"
      },
      "source": [
        "# Импорты библиотек"
      ]
    },
    {
      "cell_type": "code",
      "metadata": {
        "id": "pwleZVawyfig"
      },
      "source": [
        "import pandas as pd\n",
        "from sklearn.model_selection import train_test_split\n",
        "from sklearn.preprocessing import StandardScaler\n",
        "from tensorflow.python.keras import Input\n",
        "from tensorflow.python.keras.layers import Dense\n",
        "from tensorflow.python.keras.models import Sequential, load_model\n",
        "from keras.utils.vis_utils import plot_model\n"
      ],
      "execution_count": 1,
      "outputs": []
    },
    {
      "cell_type": "markdown",
      "metadata": {
        "id": "9cb78yjkyuE7"
      },
      "source": [
        "# Загрузка и подготовка данных"
      ]
    },
    {
      "cell_type": "code",
      "metadata": {
        "colab": {
          "base_uri": "https://localhost:8080/",
          "height": 419
        },
        "id": "3Dw_1Qqzywla",
        "outputId": "5f33a4ac-9515-4caf-e7a9-e97253a7e1b5"
      },
      "source": [
        "data = pd.read_csv(\"../data/zoo_preprocessed.csv\")\n",
        "data"
      ],
      "execution_count": 2,
      "outputs": [
        {
          "output_type": "execute_result",
          "data": {
            "text/html": [
              "<div>\n",
              "<style scoped>\n",
              "    .dataframe tbody tr th:only-of-type {\n",
              "        vertical-align: middle;\n",
              "    }\n",
              "\n",
              "    .dataframe tbody tr th {\n",
              "        vertical-align: top;\n",
              "    }\n",
              "\n",
              "    .dataframe thead th {\n",
              "        text-align: right;\n",
              "    }\n",
              "</style>\n",
              "<table border=\"1\" class=\"dataframe\">\n",
              "  <thead>\n",
              "    <tr style=\"text-align: right;\">\n",
              "      <th></th>\n",
              "      <th>hair</th>\n",
              "      <th>feathers</th>\n",
              "      <th>eggs</th>\n",
              "      <th>milk</th>\n",
              "      <th>airborne</th>\n",
              "      <th>aquatic</th>\n",
              "      <th>predator</th>\n",
              "      <th>toothed</th>\n",
              "      <th>backbone</th>\n",
              "      <th>breathes</th>\n",
              "      <th>venomous</th>\n",
              "      <th>fins</th>\n",
              "      <th>legs</th>\n",
              "      <th>tail</th>\n",
              "      <th>domestic</th>\n",
              "      <th>catsize</th>\n",
              "      <th>type</th>\n",
              "    </tr>\n",
              "  </thead>\n",
              "  <tbody>\n",
              "    <tr>\n",
              "      <th>0</th>\n",
              "      <td>1</td>\n",
              "      <td>0</td>\n",
              "      <td>0</td>\n",
              "      <td>1</td>\n",
              "      <td>0</td>\n",
              "      <td>0</td>\n",
              "      <td>1</td>\n",
              "      <td>1</td>\n",
              "      <td>1</td>\n",
              "      <td>1</td>\n",
              "      <td>0</td>\n",
              "      <td>0</td>\n",
              "      <td>4</td>\n",
              "      <td>0</td>\n",
              "      <td>0</td>\n",
              "      <td>1</td>\n",
              "      <td>1</td>\n",
              "    </tr>\n",
              "    <tr>\n",
              "      <th>1</th>\n",
              "      <td>1</td>\n",
              "      <td>0</td>\n",
              "      <td>0</td>\n",
              "      <td>1</td>\n",
              "      <td>0</td>\n",
              "      <td>0</td>\n",
              "      <td>0</td>\n",
              "      <td>1</td>\n",
              "      <td>1</td>\n",
              "      <td>1</td>\n",
              "      <td>0</td>\n",
              "      <td>0</td>\n",
              "      <td>4</td>\n",
              "      <td>1</td>\n",
              "      <td>0</td>\n",
              "      <td>1</td>\n",
              "      <td>1</td>\n",
              "    </tr>\n",
              "    <tr>\n",
              "      <th>2</th>\n",
              "      <td>0</td>\n",
              "      <td>0</td>\n",
              "      <td>1</td>\n",
              "      <td>0</td>\n",
              "      <td>0</td>\n",
              "      <td>1</td>\n",
              "      <td>1</td>\n",
              "      <td>1</td>\n",
              "      <td>1</td>\n",
              "      <td>0</td>\n",
              "      <td>0</td>\n",
              "      <td>1</td>\n",
              "      <td>0</td>\n",
              "      <td>1</td>\n",
              "      <td>0</td>\n",
              "      <td>0</td>\n",
              "      <td>4</td>\n",
              "    </tr>\n",
              "    <tr>\n",
              "      <th>3</th>\n",
              "      <td>1</td>\n",
              "      <td>0</td>\n",
              "      <td>0</td>\n",
              "      <td>1</td>\n",
              "      <td>0</td>\n",
              "      <td>0</td>\n",
              "      <td>1</td>\n",
              "      <td>1</td>\n",
              "      <td>1</td>\n",
              "      <td>1</td>\n",
              "      <td>0</td>\n",
              "      <td>0</td>\n",
              "      <td>4</td>\n",
              "      <td>0</td>\n",
              "      <td>0</td>\n",
              "      <td>1</td>\n",
              "      <td>1</td>\n",
              "    </tr>\n",
              "    <tr>\n",
              "      <th>4</th>\n",
              "      <td>1</td>\n",
              "      <td>0</td>\n",
              "      <td>0</td>\n",
              "      <td>1</td>\n",
              "      <td>0</td>\n",
              "      <td>0</td>\n",
              "      <td>1</td>\n",
              "      <td>1</td>\n",
              "      <td>1</td>\n",
              "      <td>1</td>\n",
              "      <td>0</td>\n",
              "      <td>0</td>\n",
              "      <td>4</td>\n",
              "      <td>1</td>\n",
              "      <td>0</td>\n",
              "      <td>1</td>\n",
              "      <td>1</td>\n",
              "    </tr>\n",
              "    <tr>\n",
              "      <th>...</th>\n",
              "      <td>...</td>\n",
              "      <td>...</td>\n",
              "      <td>...</td>\n",
              "      <td>...</td>\n",
              "      <td>...</td>\n",
              "      <td>...</td>\n",
              "      <td>...</td>\n",
              "      <td>...</td>\n",
              "      <td>...</td>\n",
              "      <td>...</td>\n",
              "      <td>...</td>\n",
              "      <td>...</td>\n",
              "      <td>...</td>\n",
              "      <td>...</td>\n",
              "      <td>...</td>\n",
              "      <td>...</td>\n",
              "      <td>...</td>\n",
              "    </tr>\n",
              "    <tr>\n",
              "      <th>96</th>\n",
              "      <td>1</td>\n",
              "      <td>0</td>\n",
              "      <td>0</td>\n",
              "      <td>1</td>\n",
              "      <td>0</td>\n",
              "      <td>0</td>\n",
              "      <td>0</td>\n",
              "      <td>1</td>\n",
              "      <td>1</td>\n",
              "      <td>1</td>\n",
              "      <td>0</td>\n",
              "      <td>0</td>\n",
              "      <td>2</td>\n",
              "      <td>1</td>\n",
              "      <td>0</td>\n",
              "      <td>1</td>\n",
              "      <td>1</td>\n",
              "    </tr>\n",
              "    <tr>\n",
              "      <th>97</th>\n",
              "      <td>1</td>\n",
              "      <td>0</td>\n",
              "      <td>1</td>\n",
              "      <td>0</td>\n",
              "      <td>1</td>\n",
              "      <td>0</td>\n",
              "      <td>0</td>\n",
              "      <td>0</td>\n",
              "      <td>0</td>\n",
              "      <td>1</td>\n",
              "      <td>1</td>\n",
              "      <td>0</td>\n",
              "      <td>6</td>\n",
              "      <td>0</td>\n",
              "      <td>0</td>\n",
              "      <td>0</td>\n",
              "      <td>6</td>\n",
              "    </tr>\n",
              "    <tr>\n",
              "      <th>98</th>\n",
              "      <td>1</td>\n",
              "      <td>0</td>\n",
              "      <td>0</td>\n",
              "      <td>1</td>\n",
              "      <td>0</td>\n",
              "      <td>0</td>\n",
              "      <td>1</td>\n",
              "      <td>1</td>\n",
              "      <td>1</td>\n",
              "      <td>1</td>\n",
              "      <td>0</td>\n",
              "      <td>0</td>\n",
              "      <td>4</td>\n",
              "      <td>1</td>\n",
              "      <td>0</td>\n",
              "      <td>1</td>\n",
              "      <td>1</td>\n",
              "    </tr>\n",
              "    <tr>\n",
              "      <th>99</th>\n",
              "      <td>0</td>\n",
              "      <td>0</td>\n",
              "      <td>1</td>\n",
              "      <td>0</td>\n",
              "      <td>0</td>\n",
              "      <td>0</td>\n",
              "      <td>0</td>\n",
              "      <td>0</td>\n",
              "      <td>0</td>\n",
              "      <td>1</td>\n",
              "      <td>0</td>\n",
              "      <td>0</td>\n",
              "      <td>0</td>\n",
              "      <td>0</td>\n",
              "      <td>0</td>\n",
              "      <td>0</td>\n",
              "      <td>7</td>\n",
              "    </tr>\n",
              "    <tr>\n",
              "      <th>100</th>\n",
              "      <td>0</td>\n",
              "      <td>1</td>\n",
              "      <td>1</td>\n",
              "      <td>0</td>\n",
              "      <td>1</td>\n",
              "      <td>0</td>\n",
              "      <td>0</td>\n",
              "      <td>0</td>\n",
              "      <td>1</td>\n",
              "      <td>1</td>\n",
              "      <td>0</td>\n",
              "      <td>0</td>\n",
              "      <td>2</td>\n",
              "      <td>1</td>\n",
              "      <td>0</td>\n",
              "      <td>0</td>\n",
              "      <td>2</td>\n",
              "    </tr>\n",
              "  </tbody>\n",
              "</table>\n",
              "<p>101 rows × 17 columns</p>\n",
              "</div>"
            ],
            "text/plain": [
              "     hair  feathers  eggs  milk  airborne  ...  legs  tail  domestic  catsize  type\n",
              "0       1         0     0     1         0  ...     4     0         0        1     1\n",
              "1       1         0     0     1         0  ...     4     1         0        1     1\n",
              "2       0         0     1     0         0  ...     0     1         0        0     4\n",
              "3       1         0     0     1         0  ...     4     0         0        1     1\n",
              "4       1         0     0     1         0  ...     4     1         0        1     1\n",
              "..    ...       ...   ...   ...       ...  ...   ...   ...       ...      ...   ...\n",
              "96      1         0     0     1         0  ...     2     1         0        1     1\n",
              "97      1         0     1     0         1  ...     6     0         0        0     6\n",
              "98      1         0     0     1         0  ...     4     1         0        1     1\n",
              "99      0         0     1     0         0  ...     0     0         0        0     7\n",
              "100     0         1     1     0         1  ...     2     1         0        0     2\n",
              "\n",
              "[101 rows x 17 columns]"
            ]
          },
          "metadata": {
            "tags": []
          },
          "execution_count": 2
        }
      ]
    },
    {
      "cell_type": "markdown",
      "metadata": {
        "id": "tzAjY9BjzPeD"
      },
      "source": [
        "Выделим исследуемый признак"
      ]
    },
    {
      "cell_type": "code",
      "metadata": {
        "colab": {
          "base_uri": "https://localhost:8080/"
        },
        "id": "OyYd63AczRm3",
        "outputId": "e3bd1e94-2db8-4df1-db30-45afad75ea4c"
      },
      "source": [
        "y = data['type'].values\n",
        "y"
      ],
      "execution_count": 3,
      "outputs": [
        {
          "output_type": "execute_result",
          "data": {
            "text/plain": [
              "array([1, 1, 4, 1, 1, 1, 1, 4, 4, 1, 1, 2, 4, 7, 7, 7, 2, 1, 4, 1, 2, 2,\n",
              "       1, 2, 6, 5, 5, 1, 1, 1, 6, 1, 1, 2, 4, 1, 1, 2, 4, 6, 6, 2, 6, 2,\n",
              "       1, 1, 7, 1, 1, 1, 1, 6, 5, 7, 1, 1, 2, 2, 2, 2, 4, 4, 3, 1, 1, 1,\n",
              "       1, 1, 1, 1, 1, 2, 7, 4, 1, 1, 3, 7, 2, 2, 3, 7, 4, 2, 1, 7, 4, 2,\n",
              "       6, 5, 3, 3, 4, 1, 1, 2, 1, 6, 1, 7, 2])"
            ]
          },
          "metadata": {
            "tags": []
          },
          "execution_count": 3
        }
      ]
    },
    {
      "cell_type": "code",
      "metadata": {
        "colab": {
          "base_uri": "https://localhost:8080/"
        },
        "id": "12D2o989zTzQ",
        "outputId": "ab0f94b2-9cfc-45d1-daea-f66ba62526d2"
      },
      "source": [
        "X = data.drop(['type'], axis=1).values\n",
        "X"
      ],
      "execution_count": 4,
      "outputs": [
        {
          "output_type": "execute_result",
          "data": {
            "text/plain": [
              "array([[1, 0, 0, ..., 0, 0, 1],\n",
              "       [1, 0, 0, ..., 1, 0, 1],\n",
              "       [0, 0, 1, ..., 1, 0, 0],\n",
              "       ...,\n",
              "       [1, 0, 0, ..., 1, 0, 1],\n",
              "       [0, 0, 1, ..., 0, 0, 0],\n",
              "       [0, 1, 1, ..., 1, 0, 0]])"
            ]
          },
          "metadata": {
            "tags": []
          },
          "execution_count": 4
        }
      ]
    },
    {
      "cell_type": "markdown",
      "metadata": {
        "id": "B0Cthl8vz2in"
      },
      "source": [
        "# Разбиение данных на тренировочную и тестовую выборки"
      ]
    },
    {
      "cell_type": "code",
      "metadata": {
        "id": "dW1MdmOCzw1Q"
      },
      "source": [
        "X_train, X_test, y_train, y_test = train_test_split(X, y, test_size=0.2, stratify=y)"
      ],
      "execution_count": 5,
      "outputs": []
    },
    {
      "cell_type": "markdown",
      "metadata": {
        "id": "sjzKbDPr0B0H"
      },
      "source": [
        "# Эксперимент №1"
      ]
    },
    {
      "cell_type": "markdown",
      "metadata": {
        "id": "kagNSZEw0ESJ"
      },
      "source": [
        "*   Без скрытых слоев\n",
        "*   Функция активации выходного слоя - sigmoid\n",
        "*   50 эпох обучения"
      ]
    },
    {
      "cell_type": "code",
      "metadata": {
        "id": "qtiOYSbl0Rea"
      },
      "source": [
        "model_first = Sequential()\n",
        "model_first.add(Input(16, name='InputLayer'))\n",
        "model_first.add(Dense(1, activation='sigmoid', name='OutputLayer'))"
      ],
      "execution_count": 6,
      "outputs": []
    },
    {
      "cell_type": "code",
      "metadata": {
        "colab": {
          "base_uri": "https://localhost:8080/",
          "height": 201
        },
        "id": "IzqHTOmz0TbB",
        "outputId": "5c8b87d9-65fe-4aee-b808-cf112791a630"
      },
      "source": [
        "plot_model(model_first, show_shapes=True, show_layer_names=True)"
      ],
      "execution_count": 7,
      "outputs": [
        {
          "output_type": "execute_result",
          "data": {
            "image/png": "[encoded data removed]",
            "text/plain": [
              "<IPython.core.display.Image object>"
            ]
          },
          "metadata": {
            "tags": []
          },
          "execution_count": 7
        }
      ]
    },
    {
      "cell_type": "code",
      "metadata": {
        "id": "UpDRlNIb0VS1"
      },
      "source": [
        "model_first.compile(loss='binary_crossentropy', optimizer='adam', metrics=['accuracy'])"
      ],
      "execution_count": 8,
      "outputs": []
    },
    {
      "cell_type": "code",
      "metadata": {
        "colab": {
          "base_uri": "https://localhost:8080/"
        },
        "id": "yTmkfUU40Xv8",
        "outputId": "957fbb97-d64d-4780-8a77-73ee076bec2a"
      },
      "source": [
        "model_first.fit(X_train, y_train, epochs=50)"
      ],
      "execution_count": 9,
      "outputs": [
        {
          "output_type": "stream",
          "text": [
            "Epoch 1/50\n",
            "3/3 [==============================] - 0s 3ms/step - loss: -3.3107 - accuracy: 0.3898\n",
            "Epoch 2/50\n",
            "3/3 [==============================] - 0s 2ms/step - loss: -3.1287 - accuracy: 0.4250\n",
            "Epoch 3/50\n",
            "3/3 [==============================] - 0s 2ms/step - loss: -2.9729 - accuracy: 0.4094\n",
            "Epoch 4/50\n",
            "3/3 [==============================] - 0s 3ms/step - loss: -3.1917 - accuracy: 0.4523\n",
            "Epoch 5/50\n",
            "3/3 [==============================] - 0s 3ms/step - loss: -3.0031 - accuracy: 0.4641\n",
            "Epoch 6/50\n",
            "3/3 [==============================] - 0s 3ms/step - loss: -3.3431 - accuracy: 0.4328\n",
            "Epoch 7/50\n",
            "3/3 [==============================] - 0s 5ms/step - loss: -3.5435 - accuracy: 0.4328\n",
            "Epoch 8/50\n",
            "3/3 [==============================] - 0s 9ms/step - loss: -3.4718 - accuracy: 0.4094\n",
            "Epoch 9/50\n",
            "3/3 [==============================] - 0s 2ms/step - loss: -3.3286 - accuracy: 0.4055\n",
            "Epoch 10/50\n",
            "3/3 [==============================] - 0s 2ms/step - loss: -3.0899 - accuracy: 0.4445\n",
            "Epoch 11/50\n",
            "3/3 [==============================] - 0s 3ms/step - loss: -3.3995 - accuracy: 0.4367\n",
            "Epoch 12/50\n",
            "3/3 [==============================] - 0s 3ms/step - loss: -3.5849 - accuracy: 0.4484\n",
            "Epoch 13/50\n",
            "3/3 [==============================] - 0s 3ms/step - loss: -3.5407 - accuracy: 0.4289\n",
            "Epoch 14/50\n",
            "3/3 [==============================] - 0s 3ms/step - loss: -3.9603 - accuracy: 0.4250\n",
            "Epoch 15/50\n",
            "3/3 [==============================] - 0s 2ms/step - loss: -3.9291 - accuracy: 0.3859\n",
            "Epoch 16/50\n",
            "3/3 [==============================] - 0s 3ms/step - loss: -3.5026 - accuracy: 0.4172\n",
            "Epoch 17/50\n",
            "3/3 [==============================] - 0s 3ms/step - loss: -3.9814 - accuracy: 0.4289\n",
            "Epoch 18/50\n",
            "3/3 [==============================] - 0s 2ms/step - loss: -3.6352 - accuracy: 0.4250\n",
            "Epoch 19/50\n",
            "3/3 [==============================] - 0s 2ms/step - loss: -3.8588 - accuracy: 0.3977\n",
            "Epoch 20/50\n",
            "3/3 [==============================] - 0s 2ms/step - loss: -4.0489 - accuracy: 0.4016\n",
            "Epoch 21/50\n",
            "3/3 [==============================] - 0s 4ms/step - loss: -4.3291 - accuracy: 0.3937\n",
            "Epoch 22/50\n",
            "3/3 [==============================] - 0s 5ms/step - loss: -4.0462 - accuracy: 0.4055\n",
            "Epoch 23/50\n",
            "3/3 [==============================] - 0s 4ms/step - loss: -4.2017 - accuracy: 0.3898\n",
            "Epoch 24/50\n",
            "3/3 [==============================] - 0s 3ms/step - loss: -4.7327 - accuracy: 0.3820\n",
            "Epoch 25/50\n",
            "3/3 [==============================] - 0s 4ms/step - loss: -4.3093 - accuracy: 0.4094\n",
            "Epoch 26/50\n",
            "3/3 [==============================] - 0s 3ms/step - loss: -4.4828 - accuracy: 0.4094\n",
            "Epoch 27/50\n",
            "3/3 [==============================] - 0s 3ms/step - loss: -4.1526 - accuracy: 0.3977\n",
            "Epoch 28/50\n",
            "3/3 [==============================] - 0s 3ms/step - loss: -4.2143 - accuracy: 0.3937\n",
            "Epoch 29/50\n",
            "3/3 [==============================] - 0s 2ms/step - loss: -4.2070 - accuracy: 0.4133\n",
            "Epoch 30/50\n",
            "3/3 [==============================] - 0s 3ms/step - loss: -4.6937 - accuracy: 0.3898\n",
            "Epoch 31/50\n",
            "3/3 [==============================] - 0s 4ms/step - loss: -4.5433 - accuracy: 0.4016\n",
            "Epoch 32/50\n",
            "3/3 [==============================] - 0s 3ms/step - loss: -4.3875 - accuracy: 0.4211\n",
            "Epoch 33/50\n",
            "3/3 [==============================] - 0s 4ms/step - loss: -4.3843 - accuracy: 0.3898\n",
            "Epoch 34/50\n",
            "3/3 [==============================] - 0s 4ms/step - loss: -4.2653 - accuracy: 0.4445\n",
            "Epoch 35/50\n",
            "3/3 [==============================] - 0s 2ms/step - loss: -4.3696 - accuracy: 0.4211\n",
            "Epoch 36/50\n",
            "3/3 [==============================] - 0s 3ms/step - loss: -4.5607 - accuracy: 0.4211\n",
            "Epoch 37/50\n",
            "3/3 [==============================] - 0s 3ms/step - loss: -4.8177 - accuracy: 0.3977\n",
            "Epoch 38/50\n",
            "3/3 [==============================] - 0s 3ms/step - loss: -4.8539 - accuracy: 0.4250\n",
            "Epoch 39/50\n",
            "3/3 [==============================] - 0s 3ms/step - loss: -4.0407 - accuracy: 0.4484\n",
            "Epoch 40/50\n",
            "3/3 [==============================] - 0s 2ms/step - loss: -4.9227 - accuracy: 0.4172\n",
            "Epoch 41/50\n",
            "3/3 [==============================] - 0s 5ms/step - loss: -4.7957 - accuracy: 0.3898\n",
            "Epoch 42/50\n",
            "3/3 [==============================] - 0s 2ms/step - loss: -4.5062 - accuracy: 0.4367\n",
            "Epoch 43/50\n",
            "3/3 [==============================] - 0s 2ms/step - loss: -4.9647 - accuracy: 0.4445\n",
            "Epoch 44/50\n",
            "3/3 [==============================] - 0s 3ms/step - loss: -4.8822 - accuracy: 0.4328\n",
            "Epoch 45/50\n",
            "3/3 [==============================] - 0s 3ms/step - loss: -5.4083 - accuracy: 0.4133\n",
            "Epoch 46/50\n",
            "3/3 [==============================] - 0s 3ms/step - loss: -5.2408 - accuracy: 0.4055\n",
            "Epoch 47/50\n",
            "3/3 [==============================] - 0s 2ms/step - loss: -5.8809 - accuracy: 0.4172\n",
            "Epoch 48/50\n",
            "3/3 [==============================] - 0s 4ms/step - loss: -4.9240 - accuracy: 0.4289\n",
            "Epoch 49/50\n",
            "3/3 [==============================] - 0s 9ms/step - loss: -5.3007 - accuracy: 0.4211\n",
            "Epoch 50/50\n",
            "3/3 [==============================] - 0s 2ms/step - loss: -5.3797 - accuracy: 0.4055\n"
          ],
          "name": "stdout"
        },
        {
          "output_type": "execute_result",
          "data": {
            "text/plain": [
              "<tensorflow.python.keras.callbacks.History at 0x7f36816fc190>"
            ]
          },
          "metadata": {
            "tags": []
          },
          "execution_count": 9
        }
      ]
    },
    {
      "cell_type": "code",
      "metadata": {
        "colab": {
          "base_uri": "https://localhost:8080/"
        },
        "id": "qQiwx20M0sN6",
        "outputId": "36f24536-e3df-4868-ba85-064938003058"
      },
      "source": [
        "_ , accuracy = model_first.evaluate(X_test, y_test)\n",
        "print('Accuracy: %.4f' % (accuracy*100))"
      ],
      "execution_count": 10,
      "outputs": [
        {
          "output_type": "stream",
          "text": [
            "1/1 [==============================] - 0s 132ms/step - loss: -7.8740 - accuracy: 0.3810\n",
            "Accuracy: 38.0952\n"
          ],
          "name": "stdout"
        }
      ]
    },
    {
      "cell_type": "markdown",
      "metadata": {
        "id": "2ky9O16C0G86"
      },
      "source": [
        "# Эксперимент №2"
      ]
    },
    {
      "cell_type": "markdown",
      "metadata": {
        "id": "S9jWjCXd0xgB"
      },
      "source": [
        "\n",
        "\n",
        "*   1 скрытый слой (функция активации - sigmoid, 5 нейронов)\n",
        "*   Функция активации выходного слоя - relu\n",
        "*   100 эпох обучения\n",
        "\n"
      ]
    },
    {
      "cell_type": "code",
      "metadata": {
        "id": "q8yUQgSg0vDI"
      },
      "source": [
        "model_second = Sequential()\n",
        "model_second.add(Input(16, name='InputLayer'))\n",
        "model_second.add(Dense(5, name='HiddenLayer1', activation='sigmoid'),)\n",
        "model_second.add(Dense(1, activation='relu', name='OutputLayer'))"
      ],
      "execution_count": 11,
      "outputs": []
    },
    {
      "cell_type": "code",
      "metadata": {
        "colab": {
          "base_uri": "https://localhost:8080/",
          "height": 312
        },
        "id": "hizos2qd04S-",
        "outputId": "e51d7f1a-25e9-4797-a701-023aed46d313"
      },
      "source": [
        "plot_model(model_second, show_shapes=True, show_layer_names=True)"
      ],
      "execution_count": 12,
      "outputs": [
        {
          "output_type": "execute_result",
          "data": {
            "image/png": "[encoded data removed]",
            "text/plain": [
              "<IPython.core.display.Image object>"
            ]
          },
          "metadata": {
            "tags": []
          },
          "execution_count": 12
        }
      ]
    },
    {
      "cell_type": "code",
      "metadata": {
        "id": "o7xvtV2705SM"
      },
      "source": [
        "model_second.compile(loss='binary_crossentropy', optimizer='adam', metrics=['accuracy'])"
      ],
      "execution_count": 13,
      "outputs": []
    },
    {
      "cell_type": "code",
      "metadata": {
        "colab": {
          "base_uri": "https://localhost:8080/"
        },
        "id": "N9a0B2mt06Zg",
        "outputId": "fe8cb46b-12a7-4258-dc36-ce085409224e"
      },
      "source": [
        "model_second.fit(X_train, y_train, epochs=100)"
      ],
      "execution_count": 14,
      "outputs": [
        {
          "output_type": "stream",
          "text": [
            "Epoch 1/100\n",
            "3/3 [==============================] - 0s 4ms/step - loss: 1.5030 - accuracy: 0.4383\n",
            "Epoch 2/100\n",
            "3/3 [==============================] - 0s 3ms/step - loss: 1.3932 - accuracy: 0.4172\n",
            "Epoch 3/100\n",
            "3/3 [==============================] - 0s 2ms/step - loss: 1.3396 - accuracy: 0.4172\n",
            "Epoch 4/100\n",
            "3/3 [==============================] - 0s 3ms/step - loss: 1.0043 - accuracy: 0.4406\n",
            "Epoch 5/100\n",
            "3/3 [==============================] - 0s 3ms/step - loss: 0.9843 - accuracy: 0.4016\n",
            "Epoch 6/100\n",
            "3/3 [==============================] - 0s 3ms/step - loss: 0.7144 - accuracy: 0.4172\n",
            "Epoch 7/100\n",
            "3/3 [==============================] - 0s 2ms/step - loss: 0.5336 - accuracy: 0.3820\n",
            "Epoch 8/100\n",
            "3/3 [==============================] - 0s 2ms/step - loss: 0.1144 - accuracy: 0.4055\n",
            "Epoch 9/100\n",
            "3/3 [==============================] - 0s 2ms/step - loss: 0.0997 - accuracy: 0.3820\n",
            "Epoch 10/100\n",
            "3/3 [==============================] - 0s 3ms/step - loss: -0.1168 - accuracy: 0.4289\n",
            "Epoch 11/100\n",
            "3/3 [==============================] - 0s 2ms/step - loss: -0.2137 - accuracy: 0.4055\n",
            "Epoch 12/100\n",
            "3/3 [==============================] - 0s 2ms/step - loss: -0.5264 - accuracy: 0.4367\n",
            "Epoch 13/100\n",
            "3/3 [==============================] - 0s 2ms/step - loss: -0.6612 - accuracy: 0.4094\n",
            "Epoch 14/100\n",
            "3/3 [==============================] - 0s 2ms/step - loss: -1.1097 - accuracy: 0.4250\n",
            "Epoch 15/100\n",
            "3/3 [==============================] - 0s 2ms/step - loss: -1.3753 - accuracy: 0.4055\n",
            "Epoch 16/100\n",
            "3/3 [==============================] - 0s 2ms/step - loss: -1.8225 - accuracy: 0.3937\n",
            "Epoch 17/100\n",
            "3/3 [==============================] - 0s 2ms/step - loss: -2.4933 - accuracy: 0.3859\n",
            "Epoch 18/100\n",
            "3/3 [==============================] - 0s 6ms/step - loss: -4.9799 - accuracy: 0.4094\n",
            "Epoch 19/100\n",
            "3/3 [==============================] - 0s 4ms/step - loss: -4.6335 - accuracy: 0.3859\n",
            "Epoch 20/100\n",
            "3/3 [==============================] - 0s 3ms/step - loss: -5.5981 - accuracy: 0.4133\n",
            "Epoch 21/100\n",
            "3/3 [==============================] - 0s 4ms/step - loss: -8.4630 - accuracy: 0.4289\n",
            "Epoch 22/100\n",
            "3/3 [==============================] - 0s 3ms/step - loss: -10.4107 - accuracy: 0.4133\n",
            "Epoch 23/100\n",
            "3/3 [==============================] - 0s 2ms/step - loss: -9.9896 - accuracy: 0.4445\n",
            "Epoch 24/100\n",
            "3/3 [==============================] - 0s 4ms/step - loss: -11.4690 - accuracy: 0.3977\n",
            "Epoch 25/100\n",
            "3/3 [==============================] - 0s 6ms/step - loss: -14.1428 - accuracy: 0.3820\n",
            "Epoch 26/100\n",
            "3/3 [==============================] - 0s 4ms/step - loss: -14.8000 - accuracy: 0.3742\n",
            "Epoch 27/100\n",
            "3/3 [==============================] - 0s 3ms/step - loss: -17.4872 - accuracy: 0.4133\n",
            "Epoch 28/100\n",
            "3/3 [==============================] - 0s 5ms/step - loss: -15.8540 - accuracy: 0.4055\n",
            "Epoch 29/100\n",
            "3/3 [==============================] - 0s 4ms/step - loss: -19.4966 - accuracy: 0.3781\n",
            "Epoch 30/100\n",
            "3/3 [==============================] - 0s 3ms/step - loss: -18.3612 - accuracy: 0.4211\n",
            "Epoch 31/100\n",
            "3/3 [==============================] - 0s 5ms/step - loss: -17.8906 - accuracy: 0.4250\n",
            "Epoch 32/100\n",
            "3/3 [==============================] - 0s 4ms/step - loss: -21.9872 - accuracy: 0.4289\n",
            "Epoch 33/100\n",
            "3/3 [==============================] - 0s 3ms/step - loss: -21.1826 - accuracy: 0.4055\n",
            "Epoch 34/100\n",
            "3/3 [==============================] - 0s 5ms/step - loss: -19.4500 - accuracy: 0.4289\n",
            "Epoch 35/100\n",
            "3/3 [==============================] - 0s 5ms/step - loss: -22.0822 - accuracy: 0.4133\n",
            "Epoch 36/100\n",
            "3/3 [==============================] - 0s 6ms/step - loss: -21.4070 - accuracy: 0.4211\n",
            "Epoch 37/100\n",
            "3/3 [==============================] - 0s 3ms/step - loss: -23.1685 - accuracy: 0.3742\n",
            "Epoch 38/100\n",
            "3/3 [==============================] - 0s 3ms/step - loss: -24.7472 - accuracy: 0.3898\n",
            "Epoch 39/100\n",
            "3/3 [==============================] - 0s 4ms/step - loss: -23.4720 - accuracy: 0.4055\n",
            "Epoch 40/100\n",
            "3/3 [==============================] - 0s 3ms/step - loss: -24.0788 - accuracy: 0.4133\n",
            "Epoch 41/100\n",
            "3/3 [==============================] - 0s 4ms/step - loss: -24.1132 - accuracy: 0.3898\n",
            "Epoch 42/100\n",
            "3/3 [==============================] - 0s 3ms/step - loss: -24.9028 - accuracy: 0.4133\n",
            "Epoch 43/100\n",
            "3/3 [==============================] - 0s 4ms/step - loss: -23.2636 - accuracy: 0.4289\n",
            "Epoch 44/100\n",
            "3/3 [==============================] - 0s 4ms/step - loss: -23.3097 - accuracy: 0.4406\n",
            "Epoch 45/100\n",
            "3/3 [==============================] - 0s 5ms/step - loss: -23.7525 - accuracy: 0.3859\n",
            "Epoch 46/100\n",
            "3/3 [==============================] - 0s 4ms/step - loss: -20.9696 - accuracy: 0.4445\n",
            "Epoch 47/100\n",
            "3/3 [==============================] - 0s 2ms/step - loss: -19.9252 - accuracy: 0.4289\n",
            "Epoch 48/100\n",
            "3/3 [==============================] - 0s 4ms/step - loss: -22.5357 - accuracy: 0.4328\n",
            "Epoch 49/100\n",
            "3/3 [==============================] - 0s 5ms/step - loss: -22.6174 - accuracy: 0.4055\n",
            "Epoch 50/100\n",
            "3/3 [==============================] - 0s 5ms/step - loss: -23.9266 - accuracy: 0.3898\n",
            "Epoch 51/100\n",
            "3/3 [==============================] - 0s 4ms/step - loss: -23.3990 - accuracy: 0.4094\n",
            "Epoch 52/100\n",
            "3/3 [==============================] - 0s 4ms/step - loss: -23.2254 - accuracy: 0.4094\n",
            "Epoch 53/100\n",
            "3/3 [==============================] - 0s 4ms/step - loss: -22.9353 - accuracy: 0.3937\n",
            "Epoch 54/100\n",
            "3/3 [==============================] - 0s 8ms/step - loss: -22.8943 - accuracy: 0.4406\n",
            "Epoch 55/100\n",
            "3/3 [==============================] - 0s 3ms/step - loss: -21.8459 - accuracy: 0.4367\n",
            "Epoch 56/100\n",
            "3/3 [==============================] - 0s 2ms/step - loss: -24.5860 - accuracy: 0.3781\n",
            "Epoch 57/100\n",
            "3/3 [==============================] - 0s 3ms/step - loss: -20.9071 - accuracy: 0.4484\n",
            "Epoch 58/100\n",
            "3/3 [==============================] - 0s 2ms/step - loss: -25.6850 - accuracy: 0.3703\n",
            "Epoch 59/100\n",
            "3/3 [==============================] - 0s 1ms/step - loss: -23.0559 - accuracy: 0.4289\n",
            "Epoch 60/100\n",
            "3/3 [==============================] - 0s 5ms/step - loss: -23.0050 - accuracy: 0.4055\n",
            "Epoch 61/100\n",
            "3/3 [==============================] - 0s 3ms/step - loss: -23.7725 - accuracy: 0.3898\n",
            "Epoch 62/100\n",
            "3/3 [==============================] - 0s 5ms/step - loss: -23.3171 - accuracy: 0.4133\n",
            "Epoch 63/100\n",
            "3/3 [==============================] - 0s 6ms/step - loss: -23.3039 - accuracy: 0.4289\n",
            "Epoch 64/100\n",
            "3/3 [==============================] - 0s 4ms/step - loss: -23.4608 - accuracy: 0.4016\n",
            "Epoch 65/100\n",
            "3/3 [==============================] - 0s 3ms/step - loss: -21.5606 - accuracy: 0.4250\n",
            "Epoch 66/100\n",
            "3/3 [==============================] - 0s 3ms/step - loss: -24.6272 - accuracy: 0.4211\n",
            "Epoch 67/100\n",
            "3/3 [==============================] - 0s 2ms/step - loss: -23.2991 - accuracy: 0.4367\n",
            "Epoch 68/100\n",
            "3/3 [==============================] - 0s 5ms/step - loss: -23.5082 - accuracy: 0.4133\n",
            "Epoch 69/100\n",
            "3/3 [==============================] - 0s 3ms/step - loss: -22.6613 - accuracy: 0.4055\n",
            "Epoch 70/100\n",
            "3/3 [==============================] - 0s 3ms/step - loss: -24.2092 - accuracy: 0.4016\n",
            "Epoch 71/100\n",
            "3/3 [==============================] - 0s 4ms/step - loss: -23.7995 - accuracy: 0.4211\n",
            "Epoch 72/100\n",
            "3/3 [==============================] - 0s 3ms/step - loss: -25.0085 - accuracy: 0.3937\n",
            "Epoch 73/100\n",
            "3/3 [==============================] - 0s 3ms/step - loss: -23.1181 - accuracy: 0.4094\n",
            "Epoch 74/100\n",
            "3/3 [==============================] - 0s 2ms/step - loss: -23.6344 - accuracy: 0.4250\n",
            "Epoch 75/100\n",
            "3/3 [==============================] - 0s 4ms/step - loss: -24.0025 - accuracy: 0.4133\n",
            "Epoch 76/100\n",
            "3/3 [==============================] - 0s 3ms/step - loss: -23.0634 - accuracy: 0.4172\n",
            "Epoch 77/100\n",
            "3/3 [==============================] - 0s 3ms/step - loss: -23.2426 - accuracy: 0.4406\n",
            "Epoch 78/100\n",
            "3/3 [==============================] - 0s 3ms/step - loss: -24.5594 - accuracy: 0.4328\n",
            "Epoch 79/100\n",
            "3/3 [==============================] - 0s 4ms/step - loss: -24.7590 - accuracy: 0.4133\n",
            "Epoch 80/100\n",
            "3/3 [==============================] - 0s 6ms/step - loss: -24.3247 - accuracy: 0.4289\n",
            "Epoch 81/100\n",
            "3/3 [==============================] - 0s 3ms/step - loss: -24.7373 - accuracy: 0.4406\n",
            "Epoch 82/100\n",
            "3/3 [==============================] - 0s 2ms/step - loss: -24.6427 - accuracy: 0.4250\n",
            "Epoch 83/100\n",
            "3/3 [==============================] - 0s 4ms/step - loss: -25.1075 - accuracy: 0.3898\n",
            "Epoch 84/100\n",
            "3/3 [==============================] - 0s 6ms/step - loss: -24.8713 - accuracy: 0.4328\n",
            "Epoch 85/100\n",
            "3/3 [==============================] - 0s 3ms/step - loss: -23.8770 - accuracy: 0.4172\n",
            "Epoch 86/100\n",
            "3/3 [==============================] - 0s 2ms/step - loss: -26.2066 - accuracy: 0.4445\n",
            "Epoch 87/100\n",
            "3/3 [==============================] - 0s 3ms/step - loss: -24.4068 - accuracy: 0.4406\n",
            "Epoch 88/100\n",
            "3/3 [==============================] - 0s 2ms/step - loss: -25.3755 - accuracy: 0.4289\n",
            "Epoch 89/100\n",
            "3/3 [==============================] - 0s 4ms/step - loss: -26.1432 - accuracy: 0.4094\n",
            "Epoch 90/100\n",
            "3/3 [==============================] - 0s 2ms/step - loss: -27.2845 - accuracy: 0.4094\n",
            "Epoch 91/100\n",
            "3/3 [==============================] - 0s 2ms/step - loss: -26.5517 - accuracy: 0.3820\n",
            "Epoch 92/100\n",
            "3/3 [==============================] - 0s 2ms/step - loss: -25.5877 - accuracy: 0.4094\n",
            "Epoch 93/100\n",
            "3/3 [==============================] - 0s 3ms/step - loss: -25.2764 - accuracy: 0.4094\n",
            "Epoch 94/100\n",
            "3/3 [==============================] - 0s 3ms/step - loss: -26.0398 - accuracy: 0.4133\n",
            "Epoch 95/100\n",
            "3/3 [==============================] - 0s 3ms/step - loss: -25.5507 - accuracy: 0.4211\n",
            "Epoch 96/100\n",
            "3/3 [==============================] - 0s 4ms/step - loss: -24.9847 - accuracy: 0.4094\n",
            "Epoch 97/100\n",
            "3/3 [==============================] - 0s 4ms/step - loss: -26.0968 - accuracy: 0.3937\n",
            "Epoch 98/100\n",
            "3/3 [==============================] - 0s 2ms/step - loss: -25.0173 - accuracy: 0.3977\n",
            "Epoch 99/100\n",
            "3/3 [==============================] - 0s 3ms/step - loss: -24.9437 - accuracy: 0.4094\n",
            "Epoch 100/100\n",
            "3/3 [==============================] - 0s 3ms/step - loss: -26.9382 - accuracy: 0.4094\n"
          ],
          "name": "stdout"
        },
        {
          "output_type": "execute_result",
          "data": {
            "text/plain": [
              "<tensorflow.python.keras.callbacks.History at 0x7f367f6fbd50>"
            ]
          },
          "metadata": {
            "tags": []
          },
          "execution_count": 14
        }
      ]
    },
    {
      "cell_type": "code",
      "metadata": {
        "colab": {
          "base_uri": "https://localhost:8080/"
        },
        "id": "2oO8H3Xi07jW",
        "outputId": "87454ecf-ed48-48d2-88d9-d0bb2b0c71c7"
      },
      "source": [
        "_ , accuracy = model_second.evaluate(X_test, y_test)\n",
        "print('Accuracy: %.4f' % (accuracy*100))"
      ],
      "execution_count": 15,
      "outputs": [
        {
          "output_type": "stream",
          "text": [
            "1/1 [==============================] - 0s 111ms/step - loss: -29.7723 - accuracy: 0.3810\n",
            "Accuracy: 38.0952\n"
          ],
          "name": "stdout"
        }
      ]
    },
    {
      "cell_type": "markdown",
      "metadata": {
        "id": "axIPkgdA0_1T"
      },
      "source": [
        "# Эксперимент №3"
      ]
    },
    {
      "cell_type": "markdown",
      "metadata": {
        "id": "htjzJcA61CC_"
      },
      "source": [
        "\n",
        "\n",
        "*   скрытый слоя (функция активации - sigmoid, 5 нейронов)\n",
        "*   скрытый слоя (функция активации - sigmoid, 3 нейронов)\n",
        "*   Функция активации выходного слоя - relu\n",
        "*   150 эпох обучения\n",
        "\n"
      ]
    },
    {
      "cell_type": "code",
      "metadata": {
        "id": "Z9KTsAWN1JNr"
      },
      "source": [
        "model_third = Sequential()\n",
        "model_third.add(Input(16, name='InputLayer'))\n",
        "model_third.add(Dense(5, name='HiddenLayer1', activation='sigmoid'),)\n",
        "model_third.add(Dense(3, name='HiddenLayer2', activation='sigmoid'),)\n",
        "model_third.add(Dense(1, activation='relu', name='OutputLayer'))"
      ],
      "execution_count": 16,
      "outputs": []
    },
    {
      "cell_type": "code",
      "metadata": {
        "colab": {
          "base_uri": "https://localhost:8080/",
          "height": 422
        },
        "id": "EiJ5SfTs1KXg",
        "outputId": "172bbb0f-481a-4adb-a8af-3776af3b7b2b"
      },
      "source": [
        "plot_model(model_third, show_shapes=True, show_layer_names=True)"
      ],
      "execution_count": 17,
      "outputs": [
        {
          "output_type": "execute_result",
          "data": {
            "image/png": "[encoded data removed]",
            "text/plain": [
              "<IPython.core.display.Image object>"
            ]
          },
          "metadata": {
            "tags": []
          },
          "execution_count": 17
        }
      ]
    },
    {
      "cell_type": "code",
      "metadata": {
        "id": "kF33SS2m1LZM"
      },
      "source": [
        "model_third.compile(loss='binary_crossentropy', optimizer='adam', metrics=['accuracy'])"
      ],
      "execution_count": 18,
      "outputs": []
    },
    {
      "cell_type": "code",
      "metadata": {
        "colab": {
          "base_uri": "https://localhost:8080/"
        },
        "id": "rxzMWkL31NN8",
        "outputId": "7bb141af-7e5a-420f-f739-7d8798669730"
      },
      "source": [
        "model_third.fit(X_train, y_train, epochs=150)"
      ],
      "execution_count": 19,
      "outputs": [
        {
          "output_type": "stream",
          "text": [
            "Epoch 1/150\n",
            "3/3 [==============================] - 0s 4ms/step - loss: 8.5507 - accuracy: 0.0000e+00\n",
            "Epoch 2/150\n",
            "3/3 [==============================] - 0s 3ms/step - loss: 7.5441 - accuracy: 0.0000e+00\n",
            "Epoch 3/150\n",
            "3/3 [==============================] - 0s 3ms/step - loss: 6.7126 - accuracy: 0.0000e+00\n",
            "Epoch 4/150\n",
            "3/3 [==============================] - 0s 3ms/step - loss: 6.7553 - accuracy: 0.0000e+00\n",
            "Epoch 5/150\n",
            "3/3 [==============================] - 0s 3ms/step - loss: 6.1761 - accuracy: 0.0000e+00\n",
            "Epoch 6/150\n",
            "3/3 [==============================] - 0s 2ms/step - loss: 5.7134 - accuracy: 0.0000e+00\n",
            "Epoch 7/150\n",
            "3/3 [==============================] - 0s 3ms/step - loss: 5.9272 - accuracy: 0.0000e+00\n",
            "Epoch 8/150\n",
            "3/3 [==============================] - 0s 5ms/step - loss: 5.3111 - accuracy: 0.0000e+00\n",
            "Epoch 9/150\n",
            "3/3 [==============================] - 0s 3ms/step - loss: 5.3674 - accuracy: 0.0000e+00\n",
            "Epoch 10/150\n",
            "3/3 [==============================] - 0s 5ms/step - loss: 5.2763 - accuracy: 0.0000e+00\n",
            "Epoch 11/150\n",
            "3/3 [==============================] - 0s 3ms/step - loss: 5.1469 - accuracy: 0.0000e+00\n",
            "Epoch 12/150\n",
            "3/3 [==============================] - 0s 2ms/step - loss: 4.7575 - accuracy: 0.0000e+00\n",
            "Epoch 13/150\n",
            "3/3 [==============================] - 0s 3ms/step - loss: 4.8446 - accuracy: 0.0000e+00\n",
            "Epoch 14/150\n",
            "3/3 [==============================] - 0s 4ms/step - loss: 4.3493 - accuracy: 0.0000e+00\n",
            "Epoch 15/150\n",
            "3/3 [==============================] - 0s 3ms/step - loss: 4.1977 - accuracy: 0.0000e+00\n",
            "Epoch 16/150\n",
            "3/3 [==============================] - 0s 3ms/step - loss: 4.1951 - accuracy: 0.0000e+00\n",
            "Epoch 17/150\n",
            "3/3 [==============================] - 0s 2ms/step - loss: 4.0719 - accuracy: 0.0000e+00\n",
            "Epoch 18/150\n",
            "3/3 [==============================] - 0s 3ms/step - loss: 4.1155 - accuracy: 0.0000e+00\n",
            "Epoch 19/150\n",
            "3/3 [==============================] - 0s 4ms/step - loss: 4.0126 - accuracy: 0.0000e+00\n",
            "Epoch 20/150\n",
            "3/3 [==============================] - 0s 2ms/step - loss: 3.9269 - accuracy: 0.0000e+00\n",
            "Epoch 21/150\n",
            "3/3 [==============================] - 0s 4ms/step - loss: 3.6802 - accuracy: 0.0000e+00\n",
            "Epoch 22/150\n",
            "3/3 [==============================] - 0s 3ms/step - loss: 3.5957 - accuracy: 0.0000e+00\n",
            "Epoch 23/150\n",
            "3/3 [==============================] - 0s 4ms/step - loss: 3.6029 - accuracy: 0.0000e+00\n",
            "Epoch 24/150\n",
            "3/3 [==============================] - 0s 3ms/step - loss: 3.4970 - accuracy: 0.0000e+00\n",
            "Epoch 25/150\n",
            "3/3 [==============================] - 0s 3ms/step - loss: 3.3164 - accuracy: 0.0000e+00\n",
            "Epoch 26/150\n",
            "3/3 [==============================] - 0s 3ms/step - loss: 3.3723 - accuracy: 0.0000e+00\n",
            "Epoch 27/150\n",
            "3/3 [==============================] - 0s 3ms/step - loss: 3.2650 - accuracy: 0.0000e+00\n",
            "Epoch 28/150\n",
            "3/3 [==============================] - 0s 4ms/step - loss: 3.1139 - accuracy: 0.0000e+00\n",
            "Epoch 29/150\n",
            "3/3 [==============================] - 0s 4ms/step - loss: 2.9778 - accuracy: 0.0000e+00\n",
            "Epoch 30/150\n",
            "3/3 [==============================] - 0s 3ms/step - loss: 3.0202 - accuracy: 0.0000e+00\n",
            "Epoch 31/150\n",
            "3/3 [==============================] - 0s 4ms/step - loss: 2.9450 - accuracy: 0.0000e+00\n",
            "Epoch 32/150\n",
            "3/3 [==============================] - 0s 4ms/step - loss: 2.7956 - accuracy: 0.0000e+00\n",
            "Epoch 33/150\n",
            "3/3 [==============================] - 0s 3ms/step - loss: 2.7358 - accuracy: 0.0000e+00\n",
            "Epoch 34/150\n",
            "3/3 [==============================] - 0s 3ms/step - loss: 2.8181 - accuracy: 0.0000e+00\n",
            "Epoch 35/150\n",
            "3/3 [==============================] - 0s 2ms/step - loss: 2.5735 - accuracy: 0.0000e+00\n",
            "Epoch 36/150\n",
            "3/3 [==============================] - 0s 3ms/step - loss: 2.4935 - accuracy: 0.0000e+00\n",
            "Epoch 37/150\n",
            "3/3 [==============================] - 0s 3ms/step - loss: 2.3997 - accuracy: 0.0000e+00\n",
            "Epoch 38/150\n",
            "3/3 [==============================] - 0s 3ms/step - loss: 2.3807 - accuracy: 0.0000e+00\n",
            "Epoch 39/150\n",
            "3/3 [==============================] - 0s 3ms/step - loss: 2.3092 - accuracy: 0.0000e+00\n",
            "Epoch 40/150\n",
            "3/3 [==============================] - 0s 2ms/step - loss: 2.2355 - accuracy: 0.0000e+00\n",
            "Epoch 41/150\n",
            "3/3 [==============================] - 0s 2ms/step - loss: 2.1370 - accuracy: 0.0000e+00\n",
            "Epoch 42/150\n",
            "3/3 [==============================] - 0s 2ms/step - loss: 2.2136 - accuracy: 0.0000e+00\n",
            "Epoch 43/150\n",
            "3/3 [==============================] - 0s 3ms/step - loss: 2.0980 - accuracy: 0.0000e+00\n",
            "Epoch 44/150\n",
            "3/3 [==============================] - 0s 2ms/step - loss: 1.8718 - accuracy: 0.0000e+00\n",
            "Epoch 45/150\n",
            "3/3 [==============================] - 0s 2ms/step - loss: 1.8911 - accuracy: 0.0000e+00\n",
            "Epoch 46/150\n",
            "3/3 [==============================] - 0s 3ms/step - loss: 1.8212 - accuracy: 0.0000e+00\n",
            "Epoch 47/150\n",
            "3/3 [==============================] - 0s 2ms/step - loss: 1.8102 - accuracy: 0.0000e+00\n",
            "Epoch 48/150\n",
            "3/3 [==============================] - 0s 2ms/step - loss: 1.6794 - accuracy: 0.0000e+00\n",
            "Epoch 49/150\n",
            "3/3 [==============================] - 0s 6ms/step - loss: 1.6947 - accuracy: 0.0000e+00\n",
            "Epoch 50/150\n",
            "3/3 [==============================] - 0s 4ms/step - loss: 1.7260 - accuracy: 0.0000e+00\n",
            "Epoch 51/150\n",
            "3/3 [==============================] - 0s 3ms/step - loss: 1.5878 - accuracy: 0.0000e+00\n",
            "Epoch 52/150\n",
            "3/3 [==============================] - 0s 4ms/step - loss: 1.5180 - accuracy: 0.0000e+00\n",
            "Epoch 53/150\n",
            "3/3 [==============================] - 0s 2ms/step - loss: 1.4091 - accuracy: 0.0000e+00\n",
            "Epoch 54/150\n",
            "3/3 [==============================] - 0s 3ms/step - loss: 1.3923 - accuracy: 0.0000e+00\n",
            "Epoch 55/150\n",
            "3/3 [==============================] - 0s 2ms/step - loss: 1.2380 - accuracy: 0.0000e+00\n",
            "Epoch 56/150\n",
            "3/3 [==============================] - 0s 7ms/step - loss: 1.2249 - accuracy: 0.0000e+00\n",
            "Epoch 57/150\n",
            "3/3 [==============================] - 0s 4ms/step - loss: 1.1802 - accuracy: 0.0000e+00\n",
            "Epoch 58/150\n",
            "3/3 [==============================] - 0s 3ms/step - loss: 1.1401 - accuracy: 0.0000e+00\n",
            "Epoch 59/150\n",
            "3/3 [==============================] - 0s 5ms/step - loss: 1.0820 - accuracy: 0.0000e+00\n",
            "Epoch 60/150\n",
            "3/3 [==============================] - 0s 5ms/step - loss: 0.9998 - accuracy: 0.0063\n",
            "Epoch 61/150\n",
            "3/3 [==============================] - 0s 5ms/step - loss: 0.9424 - accuracy: 0.1031\n",
            "Epoch 62/150\n",
            "3/3 [==============================] - 0s 3ms/step - loss: 0.9090 - accuracy: 0.1562\n",
            "Epoch 63/150\n",
            "3/3 [==============================] - 0s 2ms/step - loss: 0.8661 - accuracy: 0.3219\n",
            "Epoch 64/150\n",
            "3/3 [==============================] - 0s 4ms/step - loss: 0.7548 - accuracy: 0.3164\n",
            "Epoch 65/150\n",
            "3/3 [==============================] - 0s 2ms/step - loss: 0.7077 - accuracy: 0.3281\n",
            "Epoch 66/150\n",
            "3/3 [==============================] - 0s 5ms/step - loss: 0.6727 - accuracy: 0.3047\n",
            "Epoch 67/150\n",
            "3/3 [==============================] - 0s 3ms/step - loss: 0.5977 - accuracy: 0.3305\n",
            "Epoch 68/150\n",
            "3/3 [==============================] - 0s 6ms/step - loss: 0.5057 - accuracy: 0.3305\n",
            "Epoch 69/150\n",
            "3/3 [==============================] - 0s 4ms/step - loss: 0.4363 - accuracy: 0.3227\n",
            "Epoch 70/150\n",
            "3/3 [==============================] - 0s 9ms/step - loss: 0.4244 - accuracy: 0.3070\n",
            "Epoch 71/150\n",
            "3/3 [==============================] - 0s 3ms/step - loss: 0.2605 - accuracy: 0.3609\n",
            "Epoch 72/150\n",
            "3/3 [==============================] - 0s 4ms/step - loss: 0.2549 - accuracy: 0.3555\n",
            "Epoch 73/150\n",
            "3/3 [==============================] - 0s 6ms/step - loss: 0.1509 - accuracy: 0.3672\n",
            "Epoch 74/150\n",
            "3/3 [==============================] - 0s 12ms/step - loss: 0.2091 - accuracy: 0.4062\n",
            "Epoch 75/150\n",
            "3/3 [==============================] - 0s 6ms/step - loss: 0.0531 - accuracy: 0.3672\n",
            "Epoch 76/150\n",
            "3/3 [==============================] - 0s 3ms/step - loss: 0.0585 - accuracy: 0.3672\n",
            "Epoch 77/150\n",
            "3/3 [==============================] - 0s 3ms/step - loss: -0.0606 - accuracy: 0.3828\n",
            "Epoch 78/150\n",
            "3/3 [==============================] - 0s 4ms/step - loss: -0.0792 - accuracy: 0.4148\n",
            "Epoch 79/150\n",
            "3/3 [==============================] - 0s 2ms/step - loss: -0.2296 - accuracy: 0.3914\n",
            "Epoch 80/150\n",
            "3/3 [==============================] - 0s 5ms/step - loss: -0.2879 - accuracy: 0.4094\n",
            "Epoch 81/150\n",
            "3/3 [==============================] - 0s 3ms/step - loss: -0.2217 - accuracy: 0.4133\n",
            "Epoch 82/150\n",
            "3/3 [==============================] - 0s 2ms/step - loss: -0.3471 - accuracy: 0.4211\n",
            "Epoch 83/150\n",
            "3/3 [==============================] - 0s 3ms/step - loss: -0.4589 - accuracy: 0.4133\n",
            "Epoch 84/150\n",
            "3/3 [==============================] - 0s 8ms/step - loss: -0.5006 - accuracy: 0.4211\n",
            "Epoch 85/150\n",
            "3/3 [==============================] - 0s 4ms/step - loss: -0.6177 - accuracy: 0.3859\n",
            "Epoch 86/150\n",
            "3/3 [==============================] - 0s 2ms/step - loss: -0.5347 - accuracy: 0.4523\n",
            "Epoch 87/150\n",
            "3/3 [==============================] - 0s 4ms/step - loss: -0.8154 - accuracy: 0.3742\n",
            "Epoch 88/150\n",
            "3/3 [==============================] - 0s 2ms/step - loss: -0.8101 - accuracy: 0.4172\n",
            "Epoch 89/150\n",
            "3/3 [==============================] - 0s 2ms/step - loss: -0.8924 - accuracy: 0.4094\n",
            "Epoch 90/150\n",
            "3/3 [==============================] - 0s 3ms/step - loss: -0.9327 - accuracy: 0.4055\n",
            "Epoch 91/150\n",
            "3/3 [==============================] - 0s 3ms/step - loss: -0.9690 - accuracy: 0.4172\n",
            "Epoch 92/150\n",
            "3/3 [==============================] - 0s 3ms/step - loss: -1.1741 - accuracy: 0.3898\n",
            "Epoch 93/150\n",
            "3/3 [==============================] - 0s 2ms/step - loss: -1.3468 - accuracy: 0.4055\n",
            "Epoch 94/150\n",
            "3/3 [==============================] - 0s 2ms/step - loss: -1.2650 - accuracy: 0.4211\n",
            "Epoch 95/150\n",
            "3/3 [==============================] - 0s 3ms/step - loss: -1.4088 - accuracy: 0.4094\n",
            "Epoch 96/150\n",
            "3/3 [==============================] - 0s 2ms/step - loss: -1.4359 - accuracy: 0.4055\n",
            "Epoch 97/150\n",
            "3/3 [==============================] - 0s 2ms/step - loss: -1.5549 - accuracy: 0.4250\n",
            "Epoch 98/150\n",
            "3/3 [==============================] - 0s 3ms/step - loss: -1.6919 - accuracy: 0.4367\n",
            "Epoch 99/150\n",
            "3/3 [==============================] - 0s 3ms/step - loss: -1.9513 - accuracy: 0.4016\n",
            "Epoch 100/150\n",
            "3/3 [==============================] - 0s 2ms/step - loss: -1.8253 - accuracy: 0.4172\n",
            "Epoch 101/150\n",
            "3/3 [==============================] - 0s 2ms/step - loss: -2.1315 - accuracy: 0.3937\n",
            "Epoch 102/150\n",
            "3/3 [==============================] - 0s 4ms/step - loss: -2.1434 - accuracy: 0.4367\n",
            "Epoch 103/150\n",
            "3/3 [==============================] - 0s 4ms/step - loss: -2.1532 - accuracy: 0.4172\n",
            "Epoch 104/150\n",
            "3/3 [==============================] - 0s 3ms/step - loss: -2.4047 - accuracy: 0.4094\n",
            "Epoch 105/150\n",
            "3/3 [==============================] - 0s 3ms/step - loss: -2.6737 - accuracy: 0.4055\n",
            "Epoch 106/150\n",
            "3/3 [==============================] - 0s 3ms/step - loss: -2.6207 - accuracy: 0.4211\n",
            "Epoch 107/150\n",
            "3/3 [==============================] - 0s 4ms/step - loss: -2.9007 - accuracy: 0.4094\n",
            "Epoch 108/150\n",
            "3/3 [==============================] - 0s 3ms/step - loss: -2.9814 - accuracy: 0.3898\n",
            "Epoch 109/150\n",
            "3/3 [==============================] - 0s 5ms/step - loss: -3.4799 - accuracy: 0.4094\n",
            "Epoch 110/150\n",
            "3/3 [==============================] - 0s 2ms/step - loss: -3.8072 - accuracy: 0.3937\n",
            "Epoch 111/150\n",
            "3/3 [==============================] - 0s 3ms/step - loss: -4.1149 - accuracy: 0.4133\n",
            "Epoch 112/150\n",
            "3/3 [==============================] - 0s 3ms/step - loss: -4.4663 - accuracy: 0.4250\n",
            "Epoch 113/150\n",
            "3/3 [==============================] - 0s 3ms/step - loss: -5.5194 - accuracy: 0.4055\n",
            "Epoch 114/150\n",
            "3/3 [==============================] - 0s 3ms/step - loss: -11.2304 - accuracy: 0.4172\n",
            "Epoch 115/150\n",
            "3/3 [==============================] - 0s 3ms/step - loss: -16.3183 - accuracy: 0.4133\n",
            "Epoch 116/150\n",
            "3/3 [==============================] - 0s 4ms/step - loss: -18.4560 - accuracy: 0.4328\n",
            "Epoch 117/150\n",
            "3/3 [==============================] - 0s 3ms/step - loss: -19.6634 - accuracy: 0.4016\n",
            "Epoch 118/150\n",
            "3/3 [==============================] - 0s 4ms/step - loss: -18.1792 - accuracy: 0.4016\n",
            "Epoch 119/150\n",
            "3/3 [==============================] - 0s 3ms/step - loss: -21.0452 - accuracy: 0.4094\n",
            "Epoch 120/150\n",
            "3/3 [==============================] - 0s 5ms/step - loss: -18.8683 - accuracy: 0.4367\n",
            "Epoch 121/150\n",
            "3/3 [==============================] - 0s 3ms/step - loss: -20.1574 - accuracy: 0.4406\n",
            "Epoch 122/150\n",
            "3/3 [==============================] - 0s 6ms/step - loss: -23.5634 - accuracy: 0.4016\n",
            "Epoch 123/150\n",
            "3/3 [==============================] - 0s 4ms/step - loss: -24.4849 - accuracy: 0.4172\n",
            "Epoch 124/150\n",
            "3/3 [==============================] - 0s 5ms/step - loss: -24.7690 - accuracy: 0.4133\n",
            "Epoch 125/150\n",
            "3/3 [==============================] - 0s 2ms/step - loss: -24.6615 - accuracy: 0.3898\n",
            "Epoch 126/150\n",
            "3/3 [==============================] - 0s 8ms/step - loss: -24.6861 - accuracy: 0.4250\n",
            "Epoch 127/150\n",
            "3/3 [==============================] - 0s 2ms/step - loss: -24.0614 - accuracy: 0.4133\n",
            "Epoch 128/150\n",
            "3/3 [==============================] - 0s 5ms/step - loss: -25.1310 - accuracy: 0.3937\n",
            "Epoch 129/150\n",
            "3/3 [==============================] - 0s 5ms/step - loss: -24.3652 - accuracy: 0.4367\n",
            "Epoch 130/150\n",
            "3/3 [==============================] - 0s 4ms/step - loss: -26.9574 - accuracy: 0.3859\n",
            "Epoch 131/150\n",
            "3/3 [==============================] - 0s 4ms/step - loss: -24.0666 - accuracy: 0.4328\n",
            "Epoch 132/150\n",
            "3/3 [==============================] - 0s 5ms/step - loss: -25.6216 - accuracy: 0.4055\n",
            "Epoch 133/150\n",
            "3/3 [==============================] - 0s 3ms/step - loss: -25.5090 - accuracy: 0.3937\n",
            "Epoch 134/150\n",
            "3/3 [==============================] - 0s 2ms/step - loss: -26.9808 - accuracy: 0.4094\n",
            "Epoch 135/150\n",
            "3/3 [==============================] - 0s 4ms/step - loss: -25.5859 - accuracy: 0.3977\n",
            "Epoch 136/150\n",
            "3/3 [==============================] - 0s 3ms/step - loss: -28.7949 - accuracy: 0.4133\n",
            "Epoch 137/150\n",
            "3/3 [==============================] - 0s 3ms/step - loss: -26.5313 - accuracy: 0.4172\n",
            "Epoch 138/150\n",
            "3/3 [==============================] - 0s 5ms/step - loss: -25.7569 - accuracy: 0.4406\n",
            "Epoch 139/150\n",
            "3/3 [==============================] - 0s 2ms/step - loss: -28.3183 - accuracy: 0.4016\n",
            "Epoch 140/150\n",
            "3/3 [==============================] - 0s 3ms/step - loss: -29.2714 - accuracy: 0.4055\n",
            "Epoch 141/150\n",
            "3/3 [==============================] - 0s 2ms/step - loss: -27.9609 - accuracy: 0.3977\n",
            "Epoch 142/150\n",
            "3/3 [==============================] - 0s 3ms/step - loss: -27.0078 - accuracy: 0.4133\n",
            "Epoch 143/150\n",
            "3/3 [==============================] - 0s 3ms/step - loss: -27.6035 - accuracy: 0.3937\n",
            "Epoch 144/150\n",
            "3/3 [==============================] - 0s 3ms/step - loss: -25.2804 - accuracy: 0.4133\n",
            "Epoch 145/150\n",
            "3/3 [==============================] - 0s 3ms/step - loss: -27.0674 - accuracy: 0.4211\n",
            "Epoch 146/150\n",
            "3/3 [==============================] - 0s 3ms/step - loss: -25.9952 - accuracy: 0.4289\n",
            "Epoch 147/150\n",
            "3/3 [==============================] - 0s 4ms/step - loss: -29.7479 - accuracy: 0.3703\n",
            "Epoch 148/150\n",
            "3/3 [==============================] - 0s 3ms/step - loss: -27.5439 - accuracy: 0.4289\n",
            "Epoch 149/150\n",
            "3/3 [==============================] - 0s 2ms/step - loss: -25.5186 - accuracy: 0.4289\n",
            "Epoch 150/150\n",
            "3/3 [==============================] - 0s 6ms/step - loss: -29.2714 - accuracy: 0.3664\n"
          ],
          "name": "stdout"
        },
        {
          "output_type": "execute_result",
          "data": {
            "text/plain": [
              "<tensorflow.python.keras.callbacks.History at 0x7f367ee246d0>"
            ]
          },
          "metadata": {
            "tags": []
          },
          "execution_count": 19
        }
      ]
    },
    {
      "cell_type": "code",
      "metadata": {
        "colab": {
          "base_uri": "https://localhost:8080/"
        },
        "id": "tYAtvVbQ1OSF",
        "outputId": "ae7c19e3-9d59-40ea-c328-f5c782527756"
      },
      "source": [
        "_ , accuracy = model_third.evaluate(X_test, y_test)\n",
        "print('Accuracy: %.4f' % (accuracy*100))"
      ],
      "execution_count": 20,
      "outputs": [
        {
          "output_type": "stream",
          "text": [
            "1/1 [==============================] - 0s 107ms/step - loss: -29.7723 - accuracy: 0.3810\n",
            "Accuracy: 38.0952\n"
          ],
          "name": "stdout"
        }
      ]
    },
    {
      "cell_type": "markdown",
      "metadata": {
        "id": "krByUvOw1Qm0"
      },
      "source": [
        "# Эксперимент №4"
      ]
    },
    {
      "cell_type": "markdown",
      "metadata": {
        "id": "MllG7tAf1SlI"
      },
      "source": [
        "*   скрытый слоя (функция активации - sigmoid, 5 нейронов)\n",
        "*   скрытый слоя (функция активации - relu, 4 нейронов)\n",
        "*   скрытый слоя (функция активации - sigmoid, 3 нейрона)\n",
        "*   Функция активации выходного слоя - relu\n",
        "*   300 эпох обучения\n"
      ]
    },
    {
      "cell_type": "code",
      "metadata": {
        "id": "PTwgME1o1aGs"
      },
      "source": [
        "model_fourth = Sequential()\n",
        "model_fourth.add(Input(16, name='InputLayer'))\n",
        "model_fourth.add(Dense(5, name='HiddenLayer1', activation='sigmoid'),)\n",
        "model_fourth.add(Dense(4, name='HiddenLayer2', activation='relu'),)\n",
        "model_fourth.add(Dense(3, name='HiddenLayer3', activation='sigmoid'),)\n",
        "model_fourth.add(Dense(1, activation='relu', name='OutputLayer'))"
      ],
      "execution_count": 27,
      "outputs": []
    },
    {
      "cell_type": "code",
      "metadata": {
        "colab": {
          "base_uri": "https://localhost:8080/",
          "height": 533
        },
        "id": "m3dtH0is1cCN",
        "outputId": "c7de3bc5-c46a-41b7-f6d0-b8a6a2a3021c"
      },
      "source": [
        "plot_model(model_fourth, show_shapes=True, show_layer_names=True)"
      ],
      "execution_count": 28,
      "outputs": [
        {
          "output_type": "execute_result",
          "data": {
            "image/png": "[encoded data removed]",
            "text/plain": [
              "<IPython.core.display.Image object>"
            ]
          },
          "metadata": {
            "tags": []
          },
          "execution_count": 28
        }
      ]
    },
    {
      "cell_type": "code",
      "metadata": {
        "id": "dO5Eb43Z1c9h"
      },
      "source": [
        "model_fourth.compile(loss='binary_crossentropy', optimizer='adam', metrics=['accuracy'])"
      ],
      "execution_count": 29,
      "outputs": []
    },
    {
      "cell_type": "code",
      "metadata": {
        "colab": {
          "base_uri": "https://localhost:8080/"
        },
        "id": "RYQ2LYgt1eyd",
        "outputId": "932217b2-e77e-450c-f2f8-e427c66446fb"
      },
      "source": [
        "model_fourth.fit(X_train, y_train, epochs=300)"
      ],
      "execution_count": 30,
      "outputs": [
        {
          "output_type": "stream",
          "text": [
            "Epoch 1/300\n",
            "3/3 [==============================] - 0s 4ms/step - loss: 5.6385 - accuracy: 0.0000e+00\n",
            "Epoch 2/300\n",
            "3/3 [==============================] - 0s 3ms/step - loss: 5.6895 - accuracy: 0.0000e+00\n",
            "Epoch 3/300\n",
            "3/3 [==============================] - 0s 2ms/step - loss: 4.8665 - accuracy: 0.0000e+00\n",
            "Epoch 4/300\n",
            "3/3 [==============================] - 0s 3ms/step - loss: 4.8506 - accuracy: 0.0000e+00\n",
            "Epoch 5/300\n",
            "3/3 [==============================] - 0s 3ms/step - loss: 4.4803 - accuracy: 0.0000e+00\n",
            "Epoch 6/300\n",
            "3/3 [==============================] - 0s 3ms/step - loss: 4.1851 - accuracy: 0.0000e+00\n",
            "Epoch 7/300\n",
            "3/3 [==============================] - 0s 3ms/step - loss: 4.1642 - accuracy: 0.0000e+00\n",
            "Epoch 8/300\n",
            "3/3 [==============================] - 0s 5ms/step - loss: 3.7653 - accuracy: 0.0000e+00\n",
            "Epoch 9/300\n",
            "3/3 [==============================] - 0s 3ms/step - loss: 3.5979 - accuracy: 0.0000e+00\n",
            "Epoch 10/300\n",
            "3/3 [==============================] - 0s 2ms/step - loss: 3.2875 - accuracy: 0.0000e+00\n",
            "Epoch 11/300\n",
            "3/3 [==============================] - 0s 3ms/step - loss: 3.1720 - accuracy: 0.0000e+00\n",
            "Epoch 12/300\n",
            "3/3 [==============================] - 0s 3ms/step - loss: 3.0675 - accuracy: 0.0000e+00\n",
            "Epoch 13/300\n",
            "3/3 [==============================] - 0s 3ms/step - loss: 2.8754 - accuracy: 0.0000e+00\n",
            "Epoch 14/300\n",
            "3/3 [==============================] - 0s 4ms/step - loss: 2.7937 - accuracy: 0.0000e+00\n",
            "Epoch 15/300\n",
            "3/3 [==============================] - 0s 4ms/step - loss: 2.6290 - accuracy: 0.0000e+00\n",
            "Epoch 16/300\n",
            "3/3 [==============================] - 0s 4ms/step - loss: 2.3833 - accuracy: 0.0000e+00\n",
            "Epoch 17/300\n",
            "3/3 [==============================] - 0s 4ms/step - loss: 2.3848 - accuracy: 0.0000e+00\n",
            "Epoch 18/300\n",
            "3/3 [==============================] - 0s 3ms/step - loss: 2.2032 - accuracy: 0.0000e+00\n",
            "Epoch 19/300\n",
            "3/3 [==============================] - 0s 7ms/step - loss: 2.0582 - accuracy: 0.0000e+00\n",
            "Epoch 20/300\n",
            "3/3 [==============================] - 0s 3ms/step - loss: 1.8697 - accuracy: 0.0000e+00\n",
            "Epoch 21/300\n",
            "3/3 [==============================] - 0s 4ms/step - loss: 1.7237 - accuracy: 0.0000e+00\n",
            "Epoch 22/300\n",
            "3/3 [==============================] - 0s 3ms/step - loss: 1.6398 - accuracy: 0.0000e+00\n",
            "Epoch 23/300\n",
            "3/3 [==============================] - 0s 3ms/step - loss: 1.5380 - accuracy: 0.0000e+00\n",
            "Epoch 24/300\n",
            "3/3 [==============================] - 0s 4ms/step - loss: 1.4369 - accuracy: 0.0000e+00\n",
            "Epoch 25/300\n",
            "3/3 [==============================] - 0s 5ms/step - loss: 1.2950 - accuracy: 0.0000e+00\n",
            "Epoch 26/300\n",
            "3/3 [==============================] - 0s 3ms/step - loss: 1.1257 - accuracy: 0.0359\n",
            "Epoch 27/300\n",
            "3/3 [==============================] - 0s 4ms/step - loss: 0.9833 - accuracy: 0.0203\n",
            "Epoch 28/300\n",
            "3/3 [==============================] - 0s 4ms/step - loss: 0.9486 - accuracy: 0.0164\n",
            "Epoch 29/300\n",
            "3/3 [==============================] - 0s 3ms/step - loss: 0.8042 - accuracy: 0.0203\n",
            "Epoch 30/300\n",
            "3/3 [==============================] - 0s 4ms/step - loss: 0.6692 - accuracy: 0.0266\n",
            "Epoch 31/300\n",
            "3/3 [==============================] - 0s 4ms/step - loss: 0.5949 - accuracy: 0.0484\n",
            "Epoch 32/300\n",
            "3/3 [==============================] - 0s 3ms/step - loss: 0.4807 - accuracy: 0.1281\n",
            "Epoch 33/300\n",
            "3/3 [==============================] - 0s 3ms/step - loss: 0.3318 - accuracy: 0.2984\n",
            "Epoch 34/300\n",
            "3/3 [==============================] - 0s 3ms/step - loss: 0.2030 - accuracy: 0.3750\n",
            "Epoch 35/300\n",
            "3/3 [==============================] - 0s 3ms/step - loss: 0.0835 - accuracy: 0.4031\n",
            "Epoch 36/300\n",
            "3/3 [==============================] - 0s 3ms/step - loss: -0.0452 - accuracy: 0.3875\n",
            "Epoch 37/300\n",
            "3/3 [==============================] - 0s 4ms/step - loss: -0.1247 - accuracy: 0.4250\n",
            "Epoch 38/300\n",
            "3/3 [==============================] - 0s 3ms/step - loss: -0.3373 - accuracy: 0.3703\n",
            "Epoch 39/300\n",
            "3/3 [==============================] - 0s 2ms/step - loss: -0.4594 - accuracy: 0.4016\n",
            "Epoch 40/300\n",
            "3/3 [==============================] - 0s 3ms/step - loss: -0.5600 - accuracy: 0.4250\n",
            "Epoch 41/300\n",
            "3/3 [==============================] - 0s 3ms/step - loss: -0.7413 - accuracy: 0.4172\n",
            "Epoch 42/300\n",
            "3/3 [==============================] - 0s 3ms/step - loss: -0.9007 - accuracy: 0.4016\n",
            "Epoch 43/300\n",
            "3/3 [==============================] - 0s 3ms/step - loss: -0.9485 - accuracy: 0.4328\n",
            "Epoch 44/300\n",
            "3/3 [==============================] - 0s 3ms/step - loss: -1.1603 - accuracy: 0.4328\n",
            "Epoch 45/300\n",
            "3/3 [==============================] - 0s 5ms/step - loss: -1.2717 - accuracy: 0.4367\n",
            "Epoch 46/300\n",
            "3/3 [==============================] - 0s 7ms/step - loss: -1.5102 - accuracy: 0.4172\n",
            "Epoch 47/300\n",
            "3/3 [==============================] - 0s 4ms/step - loss: -1.7067 - accuracy: 0.4289\n",
            "Epoch 48/300\n",
            "3/3 [==============================] - 0s 5ms/step - loss: -2.0751 - accuracy: 0.4133\n",
            "Epoch 49/300\n",
            "3/3 [==============================] - 0s 4ms/step - loss: -2.2642 - accuracy: 0.4211\n",
            "Epoch 50/300\n",
            "3/3 [==============================] - 0s 4ms/step - loss: -2.4099 - accuracy: 0.4172\n",
            "Epoch 51/300\n",
            "3/3 [==============================] - 0s 6ms/step - loss: -2.9339 - accuracy: 0.4055\n",
            "Epoch 52/300\n",
            "3/3 [==============================] - 0s 7ms/step - loss: -3.4217 - accuracy: 0.3781\n",
            "Epoch 53/300\n",
            "3/3 [==============================] - 0s 4ms/step - loss: -3.7093 - accuracy: 0.4562\n",
            "Epoch 54/300\n",
            "3/3 [==============================] - 0s 5ms/step - loss: -5.3424 - accuracy: 0.4172\n",
            "Epoch 55/300\n",
            "3/3 [==============================] - 0s 6ms/step - loss: -10.8901 - accuracy: 0.4367\n",
            "Epoch 56/300\n",
            "3/3 [==============================] - 0s 3ms/step - loss: -16.0894 - accuracy: 0.4328\n",
            "Epoch 57/300\n",
            "3/3 [==============================] - 0s 4ms/step - loss: -21.3084 - accuracy: 0.4211\n",
            "Epoch 58/300\n",
            "3/3 [==============================] - 0s 3ms/step - loss: -24.4464 - accuracy: 0.4328\n",
            "Epoch 59/300\n",
            "3/3 [==============================] - 0s 5ms/step - loss: -29.2118 - accuracy: 0.3781\n",
            "Epoch 60/300\n",
            "3/3 [==============================] - 0s 4ms/step - loss: -28.2587 - accuracy: 0.4055\n",
            "Epoch 61/300\n",
            "3/3 [==============================] - 0s 5ms/step - loss: -27.6631 - accuracy: 0.3781\n",
            "Epoch 62/300\n",
            "3/3 [==============================] - 0s 4ms/step - loss: -24.9230 - accuracy: 0.4367\n",
            "Epoch 63/300\n",
            "3/3 [==============================] - 0s 4ms/step - loss: -29.5097 - accuracy: 0.3859\n",
            "Epoch 64/300\n",
            "3/3 [==============================] - 0s 5ms/step - loss: -26.4717 - accuracy: 0.4094\n",
            "Epoch 65/300\n",
            "3/3 [==============================] - 0s 4ms/step - loss: -27.1270 - accuracy: 0.4211\n",
            "Epoch 66/300\n",
            "3/3 [==============================] - 0s 2ms/step - loss: -26.5909 - accuracy: 0.4211\n",
            "Epoch 67/300\n",
            "3/3 [==============================] - 0s 5ms/step - loss: -28.6757 - accuracy: 0.4250\n",
            "Epoch 68/300\n",
            "3/3 [==============================] - 0s 2ms/step - loss: -27.9013 - accuracy: 0.4250\n",
            "Epoch 69/300\n",
            "3/3 [==============================] - 0s 6ms/step - loss: -24.8038 - accuracy: 0.4289\n",
            "Epoch 70/300\n",
            "3/3 [==============================] - 0s 5ms/step - loss: -29.2118 - accuracy: 0.4016\n",
            "Epoch 71/300\n",
            "3/3 [==============================] - 0s 2ms/step - loss: -27.0078 - accuracy: 0.4055\n",
            "Epoch 72/300\n",
            "3/3 [==============================] - 0s 2ms/step - loss: -28.4970 - accuracy: 0.4133\n",
            "Epoch 73/300\n",
            "3/3 [==============================] - 0s 2ms/step - loss: -27.1865 - accuracy: 0.4211\n",
            "Epoch 74/300\n",
            "3/3 [==============================] - 0s 2ms/step - loss: -28.6757 - accuracy: 0.3859\n",
            "Epoch 75/300\n",
            "3/3 [==============================] - 0s 4ms/step - loss: -29.3310 - accuracy: 0.3820\n",
            "Epoch 76/300\n",
            "3/3 [==============================] - 0s 3ms/step - loss: -28.0205 - accuracy: 0.4250\n",
            "Epoch 77/300\n",
            "3/3 [==============================] - 0s 4ms/step - loss: -28.0800 - accuracy: 0.4094\n",
            "Epoch 78/300\n",
            "3/3 [==============================] - 0s 6ms/step - loss: -27.0674 - accuracy: 0.4250\n",
            "Epoch 79/300\n",
            "3/3 [==============================] - 0s 5ms/step - loss: -25.8761 - accuracy: 0.4445\n",
            "Epoch 80/300\n",
            "3/3 [==============================] - 0s 4ms/step - loss: -28.7949 - accuracy: 0.3898\n",
            "Epoch 81/300\n",
            "3/3 [==============================] - 0s 6ms/step - loss: -27.5439 - accuracy: 0.3977\n",
            "Epoch 82/300\n",
            "3/3 [==============================] - 0s 4ms/step - loss: -26.4122 - accuracy: 0.4367\n",
            "Epoch 83/300\n",
            "3/3 [==============================] - 0s 3ms/step - loss: -24.8038 - accuracy: 0.4406\n",
            "Epoch 84/300\n",
            "3/3 [==============================] - 0s 4ms/step - loss: -28.3183 - accuracy: 0.4055\n",
            "Epoch 85/300\n",
            "3/3 [==============================] - 0s 2ms/step - loss: -27.0674 - accuracy: 0.4289\n",
            "Epoch 86/300\n",
            "3/3 [==============================] - 0s 3ms/step - loss: -26.7696 - accuracy: 0.4133\n",
            "Epoch 87/300\n",
            "3/3 [==============================] - 0s 5ms/step - loss: -28.6757 - accuracy: 0.3781\n",
            "Epoch 88/300\n",
            "3/3 [==============================] - 0s 5ms/step - loss: -26.8291 - accuracy: 0.4406\n",
            "Epoch 89/300\n",
            "3/3 [==============================] - 0s 7ms/step - loss: -28.1396 - accuracy: 0.4172\n",
            "Epoch 90/300\n",
            "3/3 [==============================] - 0s 4ms/step - loss: -28.0205 - accuracy: 0.3781\n",
            "Epoch 91/300\n",
            "3/3 [==============================] - 0s 3ms/step - loss: -26.2930 - accuracy: 0.4406\n",
            "Epoch 92/300\n",
            "3/3 [==============================] - 0s 4ms/step - loss: -24.6251 - accuracy: 0.4484\n",
            "Epoch 93/300\n",
            "3/3 [==============================] - 0s 4ms/step - loss: -29.8075 - accuracy: 0.4055\n",
            "Epoch 94/300\n",
            "3/3 [==============================] - 0s 4ms/step - loss: -28.5566 - accuracy: 0.3898\n",
            "Epoch 95/300\n",
            "3/3 [==============================] - 0s 3ms/step - loss: -26.8887 - accuracy: 0.4250\n",
            "Epoch 96/300\n",
            "3/3 [==============================] - 0s 4ms/step - loss: -27.4844 - accuracy: 0.4250\n",
            "Epoch 97/300\n",
            "3/3 [==============================] - 0s 5ms/step - loss: -25.8165 - accuracy: 0.4211\n",
            "Epoch 98/300\n",
            "3/3 [==============================] - 0s 3ms/step - loss: -27.9013 - accuracy: 0.4133\n",
            "Epoch 99/300\n",
            "3/3 [==============================] - 0s 4ms/step - loss: -26.1739 - accuracy: 0.4211\n",
            "Epoch 100/300\n",
            "3/3 [==============================] - 0s 2ms/step - loss: -26.0548 - accuracy: 0.4367\n",
            "Epoch 101/300\n",
            "3/3 [==============================] - 0s 2ms/step - loss: -28.4970 - accuracy: 0.4133\n",
            "Epoch 102/300\n",
            "3/3 [==============================] - 0s 5ms/step - loss: -27.9013 - accuracy: 0.4055\n",
            "Epoch 103/300\n",
            "3/3 [==============================] - 0s 4ms/step - loss: -26.8291 - accuracy: 0.4250\n",
            "Epoch 104/300\n",
            "3/3 [==============================] - 0s 2ms/step - loss: -26.5909 - accuracy: 0.4016\n",
            "Epoch 105/300\n",
            "3/3 [==============================] - 0s 3ms/step - loss: -25.9356 - accuracy: 0.3977\n",
            "Epoch 106/300\n",
            "3/3 [==============================] - 0s 4ms/step - loss: -28.1396 - accuracy: 0.4094\n",
            "Epoch 107/300\n",
            "3/3 [==============================] - 0s 3ms/step - loss: -28.7353 - accuracy: 0.3937\n",
            "Epoch 108/300\n",
            "3/3 [==============================] - 0s 4ms/step - loss: -26.4122 - accuracy: 0.4328\n",
            "Epoch 109/300\n",
            "3/3 [==============================] - 0s 3ms/step - loss: -26.2930 - accuracy: 0.4289\n",
            "Epoch 110/300\n",
            "3/3 [==============================] - 0s 3ms/step - loss: -26.5909 - accuracy: 0.4055\n",
            "Epoch 111/300\n",
            "3/3 [==============================] - 0s 3ms/step - loss: -26.6504 - accuracy: 0.3898\n",
            "Epoch 112/300\n",
            "3/3 [==============================] - 0s 3ms/step - loss: -28.5566 - accuracy: 0.4094\n",
            "Epoch 113/300\n",
            "3/3 [==============================] - 0s 3ms/step - loss: -26.4122 - accuracy: 0.4211\n",
            "Epoch 114/300\n",
            "3/3 [==============================] - 0s 4ms/step - loss: -26.6504 - accuracy: 0.4211\n",
            "Epoch 115/300\n",
            "3/3 [==============================] - 0s 3ms/step - loss: -25.9356 - accuracy: 0.4445\n",
            "Epoch 116/300\n",
            "3/3 [==============================] - 0s 3ms/step - loss: -27.5439 - accuracy: 0.4133\n",
            "Epoch 117/300\n",
            "3/3 [==============================] - 0s 2ms/step - loss: -27.1865 - accuracy: 0.4094\n",
            "Epoch 118/300\n",
            "3/3 [==============================] - 0s 6ms/step - loss: -27.9609 - accuracy: 0.4094\n",
            "Epoch 119/300\n",
            "3/3 [==============================] - 0s 4ms/step - loss: -26.2930 - accuracy: 0.4211\n",
            "Epoch 120/300\n",
            "3/3 [==============================] - 0s 7ms/step - loss: -26.4717 - accuracy: 0.3977\n",
            "Epoch 121/300\n",
            "3/3 [==============================] - 0s 4ms/step - loss: -26.5909 - accuracy: 0.4172\n",
            "Epoch 122/300\n",
            "3/3 [==============================] - 0s 4ms/step - loss: -26.5909 - accuracy: 0.4211\n",
            "Epoch 123/300\n",
            "3/3 [==============================] - 0s 3ms/step - loss: -27.7226 - accuracy: 0.4055\n",
            "Epoch 124/300\n",
            "3/3 [==============================] - 0s 4ms/step - loss: -29.3310 - accuracy: 0.3937\n",
            "Epoch 125/300\n",
            "3/3 [==============================] - 0s 3ms/step - loss: -30.6414 - accuracy: 0.3898\n",
            "Epoch 126/300\n",
            "3/3 [==============================] - 0s 3ms/step - loss: -28.7353 - accuracy: 0.3547\n",
            "Epoch 127/300\n",
            "3/3 [==============================] - 0s 2ms/step - loss: -27.2461 - accuracy: 0.3820\n",
            "Epoch 128/300\n",
            "3/3 [==============================] - 0s 3ms/step - loss: -29.2118 - accuracy: 0.4133\n",
            "Epoch 129/300\n",
            "3/3 [==============================] - 0s 2ms/step - loss: -29.2118 - accuracy: 0.4055\n",
            "Epoch 130/300\n",
            "3/3 [==============================] - 0s 2ms/step - loss: -27.6035 - accuracy: 0.3898\n",
            "Epoch 131/300\n",
            "3/3 [==============================] - 0s 2ms/step - loss: -25.6973 - accuracy: 0.4133\n",
            "Epoch 132/300\n",
            "3/3 [==============================] - 0s 2ms/step - loss: -30.9988 - accuracy: 0.3781\n",
            "Epoch 133/300\n",
            "3/3 [==============================] - 0s 4ms/step - loss: -28.4970 - accuracy: 0.4016\n",
            "Epoch 134/300\n",
            "3/3 [==============================] - 0s 2ms/step - loss: -26.4717 - accuracy: 0.4250\n",
            "Epoch 135/300\n",
            "3/3 [==============================] - 0s 2ms/step - loss: -26.8291 - accuracy: 0.4406\n",
            "Epoch 136/300\n",
            "3/3 [==============================] - 0s 2ms/step - loss: -26.8291 - accuracy: 0.4250\n",
            "Epoch 137/300\n",
            "3/3 [==============================] - 0s 3ms/step - loss: -28.0205 - accuracy: 0.4094\n",
            "Epoch 138/300\n",
            "3/3 [==============================] - 0s 3ms/step - loss: -28.3183 - accuracy: 0.4133\n",
            "Epoch 139/300\n",
            "3/3 [==============================] - 0s 4ms/step - loss: -27.0078 - accuracy: 0.4250\n",
            "Epoch 140/300\n",
            "3/3 [==============================] - 0s 4ms/step - loss: -28.1992 - accuracy: 0.4250\n",
            "Epoch 141/300\n",
            "3/3 [==============================] - 0s 2ms/step - loss: -26.3526 - accuracy: 0.4133\n",
            "Epoch 142/300\n",
            "3/3 [==============================] - 0s 2ms/step - loss: -28.7949 - accuracy: 0.3781\n",
            "Epoch 143/300\n",
            "3/3 [==============================] - 0s 4ms/step - loss: -26.5313 - accuracy: 0.4133\n",
            "Epoch 144/300\n",
            "3/3 [==============================] - 0s 3ms/step - loss: -25.4591 - accuracy: 0.4133\n",
            "Epoch 145/300\n",
            "3/3 [==============================] - 0s 6ms/step - loss: -27.5439 - accuracy: 0.4172\n",
            "Epoch 146/300\n",
            "3/3 [==============================] - 0s 4ms/step - loss: -30.1053 - accuracy: 0.4016\n",
            "Epoch 147/300\n",
            "3/3 [==============================] - 0s 3ms/step - loss: -28.0205 - accuracy: 0.4250\n",
            "Epoch 148/300\n",
            "3/3 [==============================] - 0s 2ms/step - loss: -25.7569 - accuracy: 0.4250\n",
            "Epoch 149/300\n",
            "3/3 [==============================] - 0s 3ms/step - loss: -27.0078 - accuracy: 0.4094\n",
            "Epoch 150/300\n",
            "3/3 [==============================] - 0s 2ms/step - loss: -27.7226 - accuracy: 0.4250\n",
            "Epoch 151/300\n",
            "3/3 [==============================] - 0s 4ms/step - loss: -29.4501 - accuracy: 0.4133\n",
            "Epoch 152/300\n",
            "3/3 [==============================] - 0s 4ms/step - loss: -28.9736 - accuracy: 0.3937\n",
            "Epoch 153/300\n",
            "3/3 [==============================] - 0s 3ms/step - loss: -27.6035 - accuracy: 0.4328\n",
            "Epoch 154/300\n",
            "3/3 [==============================] - 0s 4ms/step - loss: -25.1017 - accuracy: 0.4562\n",
            "Epoch 155/300\n",
            "3/3 [==============================] - 0s 5ms/step - loss: -26.7100 - accuracy: 0.4133\n",
            "Epoch 156/300\n",
            "3/3 [==============================] - 0s 6ms/step - loss: -27.4248 - accuracy: 0.4094\n",
            "Epoch 157/300\n",
            "3/3 [==============================] - 0s 2ms/step - loss: -27.2461 - accuracy: 0.3977\n",
            "Epoch 158/300\n",
            "3/3 [==============================] - 0s 2ms/step - loss: -29.7479 - accuracy: 0.3977\n",
            "Epoch 159/300\n",
            "3/3 [==============================] - 0s 2ms/step - loss: -24.8634 - accuracy: 0.4445\n",
            "Epoch 160/300\n",
            "3/3 [==============================] - 0s 5ms/step - loss: -25.8165 - accuracy: 0.4562\n",
            "Epoch 161/300\n",
            "3/3 [==============================] - 0s 2ms/step - loss: -24.0295 - accuracy: 0.4445\n",
            "Epoch 162/300\n",
            "3/3 [==============================] - 0s 2ms/step - loss: -27.3057 - accuracy: 0.4133\n",
            "Epoch 163/300\n",
            "3/3 [==============================] - 0s 2ms/step - loss: -27.3652 - accuracy: 0.4211\n",
            "Epoch 164/300\n",
            "3/3 [==============================] - 0s 2ms/step - loss: -28.4374 - accuracy: 0.4055\n",
            "Epoch 165/300\n",
            "3/3 [==============================] - 0s 2ms/step - loss: -28.8544 - accuracy: 0.3781\n",
            "Epoch 166/300\n",
            "3/3 [==============================] - 0s 2ms/step - loss: -27.5439 - accuracy: 0.4250\n",
            "Epoch 167/300\n",
            "3/3 [==============================] - 0s 2ms/step - loss: -28.3183 - accuracy: 0.4016\n",
            "Epoch 168/300\n",
            "3/3 [==============================] - 0s 2ms/step - loss: -27.8418 - accuracy: 0.3859\n",
            "Epoch 169/300\n",
            "3/3 [==============================] - 0s 4ms/step - loss: -27.1865 - accuracy: 0.4133\n",
            "Epoch 170/300\n",
            "3/3 [==============================] - 0s 9ms/step - loss: -26.7696 - accuracy: 0.4172\n",
            "Epoch 171/300\n",
            "3/3 [==============================] - 0s 9ms/step - loss: -31.2371 - accuracy: 0.3742\n",
            "Epoch 172/300\n",
            "3/3 [==============================] - 0s 5ms/step - loss: -27.8418 - accuracy: 0.4016\n",
            "Epoch 173/300\n",
            "3/3 [==============================] - 0s 3ms/step - loss: -26.9483 - accuracy: 0.3937\n",
            "Epoch 174/300\n",
            "3/3 [==============================] - 0s 4ms/step - loss: -27.4844 - accuracy: 0.4016\n",
            "Epoch 175/300\n",
            "3/3 [==============================] - 0s 3ms/step - loss: -27.1270 - accuracy: 0.4016\n",
            "Epoch 176/300\n",
            "3/3 [==============================] - 0s 8ms/step - loss: -28.1396 - accuracy: 0.3820\n",
            "Epoch 177/300\n",
            "3/3 [==============================] - 0s 3ms/step - loss: -27.7226 - accuracy: 0.4211\n",
            "Epoch 178/300\n",
            "3/3 [==============================] - 0s 5ms/step - loss: -26.6504 - accuracy: 0.4250\n",
            "Epoch 179/300\n",
            "3/3 [==============================] - 0s 3ms/step - loss: -29.2714 - accuracy: 0.3703\n",
            "Epoch 180/300\n",
            "3/3 [==============================] - 0s 4ms/step - loss: -25.4591 - accuracy: 0.4484\n",
            "Epoch 181/300\n",
            "3/3 [==============================] - 0s 6ms/step - loss: -26.8291 - accuracy: 0.4250\n",
            "Epoch 182/300\n",
            "3/3 [==============================] - 0s 5ms/step - loss: -28.8544 - accuracy: 0.3898\n",
            "Epoch 183/300\n",
            "3/3 [==============================] - 0s 6ms/step - loss: -26.3526 - accuracy: 0.4328\n",
            "Epoch 184/300\n",
            "3/3 [==============================] - 0s 3ms/step - loss: -27.7822 - accuracy: 0.4055\n",
            "Epoch 185/300\n",
            "3/3 [==============================] - 0s 3ms/step - loss: -28.2587 - accuracy: 0.4016\n",
            "Epoch 186/300\n",
            "3/3 [==============================] - 0s 2ms/step - loss: -27.3652 - accuracy: 0.4055\n",
            "Epoch 187/300\n",
            "3/3 [==============================] - 0s 4ms/step - loss: -25.2208 - accuracy: 0.4328\n",
            "Epoch 188/300\n",
            "3/3 [==============================] - 0s 5ms/step - loss: -28.6161 - accuracy: 0.3937\n",
            "Epoch 189/300\n",
            "3/3 [==============================] - 0s 3ms/step - loss: -28.4970 - accuracy: 0.4094\n",
            "Epoch 190/300\n",
            "3/3 [==============================] - 0s 3ms/step - loss: -28.4374 - accuracy: 0.4094\n",
            "Epoch 191/300\n",
            "3/3 [==============================] - 0s 3ms/step - loss: -28.7948 - accuracy: 0.3937\n",
            "Epoch 192/300\n",
            "3/3 [==============================] - 0s 5ms/step - loss: -29.0927 - accuracy: 0.3977\n",
            "Epoch 193/300\n",
            "3/3 [==============================] - 0s 3ms/step - loss: -24.9825 - accuracy: 0.4367\n",
            "Epoch 194/300\n",
            "3/3 [==============================] - 0s 5ms/step - loss: -27.6035 - accuracy: 0.4094\n",
            "Epoch 195/300\n",
            "3/3 [==============================] - 0s 4ms/step - loss: -26.5313 - accuracy: 0.4133\n",
            "Epoch 196/300\n",
            "3/3 [==============================] - 0s 4ms/step - loss: -25.0421 - accuracy: 0.4484\n",
            "Epoch 197/300\n",
            "3/3 [==============================] - 0s 2ms/step - loss: -26.5909 - accuracy: 0.4367\n",
            "Epoch 198/300\n",
            "3/3 [==============================] - 0s 5ms/step - loss: -29.0331 - accuracy: 0.3898\n",
            "Epoch 199/300\n",
            "3/3 [==============================] - 0s 4ms/step - loss: -25.5782 - accuracy: 0.4289\n",
            "Epoch 200/300\n",
            "3/3 [==============================] - 0s 3ms/step - loss: -24.3869 - accuracy: 0.4484\n",
            "Epoch 201/300\n",
            "3/3 [==============================] - 0s 4ms/step - loss: -26.7100 - accuracy: 0.4211\n",
            "Epoch 202/300\n",
            "3/3 [==============================] - 0s 3ms/step - loss: -27.3057 - accuracy: 0.4172\n",
            "Epoch 203/300\n",
            "3/3 [==============================] - 0s 4ms/step - loss: -25.9952 - accuracy: 0.4406\n",
            "Epoch 204/300\n",
            "3/3 [==============================] - 0s 3ms/step - loss: -27.6631 - accuracy: 0.4289\n",
            "Epoch 205/300\n",
            "3/3 [==============================] - 0s 3ms/step - loss: -26.2335 - accuracy: 0.4055\n",
            "Epoch 206/300\n",
            "3/3 [==============================] - 0s 2ms/step - loss: -25.3399 - accuracy: 0.4484\n",
            "Epoch 207/300\n",
            "3/3 [==============================] - 0s 4ms/step - loss: -25.1017 - accuracy: 0.4211\n",
            "Epoch 208/300\n",
            "3/3 [==============================] - 0s 2ms/step - loss: -27.4248 - accuracy: 0.4406\n",
            "Epoch 209/300\n",
            "3/3 [==============================] - 0s 2ms/step - loss: -26.2930 - accuracy: 0.4406\n",
            "Epoch 210/300\n",
            "3/3 [==============================] - 0s 3ms/step - loss: -25.9952 - accuracy: 0.4289\n",
            "Epoch 211/300\n",
            "3/3 [==============================] - 0s 4ms/step - loss: -27.4248 - accuracy: 0.4328\n",
            "Epoch 212/300\n",
            "3/3 [==============================] - 0s 5ms/step - loss: -27.9013 - accuracy: 0.4211\n",
            "Epoch 213/300\n",
            "3/3 [==============================] - 0s 8ms/step - loss: -29.6288 - accuracy: 0.3820\n",
            "Epoch 214/300\n",
            "3/3 [==============================] - 0s 3ms/step - loss: -27.0078 - accuracy: 0.4211\n",
            "Epoch 215/300\n",
            "3/3 [==============================] - 0s 4ms/step - loss: -27.9013 - accuracy: 0.4055\n",
            "Epoch 216/300\n",
            "3/3 [==============================] - 0s 3ms/step - loss: -27.0674 - accuracy: 0.4016\n",
            "Epoch 217/300\n",
            "3/3 [==============================] - 0s 7ms/step - loss: -26.7696 - accuracy: 0.4250\n",
            "Epoch 218/300\n",
            "3/3 [==============================] - 0s 4ms/step - loss: -28.0205 - accuracy: 0.4055\n",
            "Epoch 219/300\n",
            "3/3 [==============================] - 0s 3ms/step - loss: -24.6847 - accuracy: 0.4484\n",
            "Epoch 220/300\n",
            "3/3 [==============================] - 0s 3ms/step - loss: -24.1486 - accuracy: 0.4445\n",
            "Epoch 221/300\n",
            "3/3 [==============================] - 0s 2ms/step - loss: -27.7226 - accuracy: 0.3977\n",
            "Epoch 222/300\n",
            "3/3 [==============================] - 0s 4ms/step - loss: -25.6378 - accuracy: 0.4602\n",
            "Epoch 223/300\n",
            "3/3 [==============================] - 0s 4ms/step - loss: -26.8291 - accuracy: 0.3977\n",
            "Epoch 224/300\n",
            "3/3 [==============================] - 0s 2ms/step - loss: -27.2461 - accuracy: 0.4250\n",
            "Epoch 225/300\n",
            "3/3 [==============================] - 0s 4ms/step - loss: -26.1143 - accuracy: 0.4016\n",
            "Epoch 226/300\n",
            "3/3 [==============================] - 0s 3ms/step - loss: -29.2118 - accuracy: 0.4055\n",
            "Epoch 227/300\n",
            "3/3 [==============================] - 0s 8ms/step - loss: -27.4248 - accuracy: 0.4016\n",
            "Epoch 228/300\n",
            "3/3 [==============================] - 0s 7ms/step - loss: -27.2461 - accuracy: 0.4016\n",
            "Epoch 229/300\n",
            "3/3 [==============================] - 0s 3ms/step - loss: -25.3995 - accuracy: 0.4445\n",
            "Epoch 230/300\n",
            "3/3 [==============================] - 0s 2ms/step - loss: -28.1396 - accuracy: 0.3977\n",
            "Epoch 231/300\n",
            "3/3 [==============================] - 0s 12ms/step - loss: -28.4374 - accuracy: 0.4133\n",
            "Epoch 232/300\n",
            "3/3 [==============================] - 0s 6ms/step - loss: -26.6504 - accuracy: 0.3937\n",
            "Epoch 233/300\n",
            "3/3 [==============================] - 0s 4ms/step - loss: -28.9140 - accuracy: 0.4016\n",
            "Epoch 234/300\n",
            "3/3 [==============================] - 0s 2ms/step - loss: -27.8418 - accuracy: 0.4055\n",
            "Epoch 235/300\n",
            "3/3 [==============================] - 0s 8ms/step - loss: -25.6973 - accuracy: 0.4328\n",
            "Epoch 236/300\n",
            "3/3 [==============================] - 0s 5ms/step - loss: -27.5439 - accuracy: 0.3898\n",
            "Epoch 237/300\n",
            "3/3 [==============================] - 0s 4ms/step - loss: -27.3652 - accuracy: 0.4445\n",
            "Epoch 238/300\n",
            "3/3 [==============================] - 0s 5ms/step - loss: -27.0674 - accuracy: 0.4211\n",
            "Epoch 239/300\n",
            "3/3 [==============================] - 0s 5ms/step - loss: -29.9862 - accuracy: 0.3703\n",
            "Epoch 240/300\n",
            "3/3 [==============================] - 0s 4ms/step - loss: -26.8887 - accuracy: 0.4133\n",
            "Epoch 241/300\n",
            "3/3 [==============================] - 0s 3ms/step - loss: -29.3905 - accuracy: 0.4055\n",
            "Epoch 242/300\n",
            "3/3 [==============================] - 0s 4ms/step - loss: -27.0674 - accuracy: 0.4289\n",
            "Epoch 243/300\n",
            "3/3 [==============================] - 0s 2ms/step - loss: -26.1739 - accuracy: 0.4406\n",
            "Epoch 244/300\n",
            "3/3 [==============================] - 0s 2ms/step - loss: -29.7479 - accuracy: 0.3898\n",
            "Epoch 245/300\n",
            "3/3 [==============================] - 0s 2ms/step - loss: -25.3399 - accuracy: 0.4484\n",
            "Epoch 246/300\n",
            "3/3 [==============================] - 0s 2ms/step - loss: -27.8418 - accuracy: 0.3937\n",
            "Epoch 247/300\n",
            "3/3 [==============================] - 0s 3ms/step - loss: -26.7100 - accuracy: 0.4523\n",
            "Epoch 248/300\n",
            "3/3 [==============================] - 0s 2ms/step - loss: -29.4501 - accuracy: 0.3937\n",
            "Epoch 249/300\n",
            "3/3 [==============================] - 0s 5ms/step - loss: -25.9952 - accuracy: 0.4250\n",
            "Epoch 250/300\n",
            "3/3 [==============================] - 0s 2ms/step - loss: -26.7100 - accuracy: 0.4211\n",
            "Epoch 251/300\n",
            "3/3 [==============================] - 0s 4ms/step - loss: -28.0205 - accuracy: 0.4055\n",
            "Epoch 252/300\n",
            "3/3 [==============================] - 0s 2ms/step - loss: -30.5819 - accuracy: 0.3664\n",
            "Epoch 253/300\n",
            "3/3 [==============================] - 0s 2ms/step - loss: -29.2714 - accuracy: 0.4016\n",
            "Epoch 254/300\n",
            "3/3 [==============================] - 0s 2ms/step - loss: -27.3057 - accuracy: 0.4289\n",
            "Epoch 255/300\n",
            "3/3 [==============================] - 0s 2ms/step - loss: -28.1992 - accuracy: 0.3937\n",
            "Epoch 256/300\n",
            "3/3 [==============================] - 0s 3ms/step - loss: -27.7226 - accuracy: 0.4016\n",
            "Epoch 257/300\n",
            "3/3 [==============================] - 0s 4ms/step - loss: -29.8671 - accuracy: 0.4133\n",
            "Epoch 258/300\n",
            "3/3 [==============================] - 0s 2ms/step - loss: -23.9103 - accuracy: 0.4602\n",
            "Epoch 259/300\n",
            "3/3 [==============================] - 0s 3ms/step - loss: -29.1523 - accuracy: 0.3859\n",
            "Epoch 260/300\n",
            "3/3 [==============================] - 0s 5ms/step - loss: -27.4248 - accuracy: 0.4211\n",
            "Epoch 261/300\n",
            "3/3 [==============================] - 0s 2ms/step - loss: -29.5097 - accuracy: 0.4094\n",
            "Epoch 262/300\n",
            "3/3 [==============================] - 0s 3ms/step - loss: -26.4717 - accuracy: 0.4328\n",
            "Epoch 263/300\n",
            "3/3 [==============================] - 0s 2ms/step - loss: -28.4970 - accuracy: 0.4172\n",
            "Epoch 264/300\n",
            "3/3 [==============================] - 0s 2ms/step - loss: -29.2118 - accuracy: 0.3859\n",
            "Epoch 265/300\n",
            "3/3 [==============================] - 0s 4ms/step - loss: -27.0078 - accuracy: 0.4094\n",
            "Epoch 266/300\n",
            "3/3 [==============================] - 0s 6ms/step - loss: -26.4122 - accuracy: 0.4250\n",
            "Epoch 267/300\n",
            "3/3 [==============================] - 0s 5ms/step - loss: -29.2714 - accuracy: 0.3547\n",
            "Epoch 268/300\n",
            "3/3 [==============================] - 0s 4ms/step - loss: -27.4248 - accuracy: 0.4094\n",
            "Epoch 269/300\n",
            "3/3 [==============================] - 0s 3ms/step - loss: -28.5566 - accuracy: 0.4016\n",
            "Epoch 270/300\n",
            "3/3 [==============================] - 0s 7ms/step - loss: -27.0078 - accuracy: 0.4055\n",
            "Epoch 271/300\n",
            "3/3 [==============================] - 0s 8ms/step - loss: -27.3057 - accuracy: 0.4133\n",
            "Epoch 272/300\n",
            "3/3 [==============================] - 0s 7ms/step - loss: -27.2461 - accuracy: 0.4016\n",
            "Epoch 273/300\n",
            "3/3 [==============================] - 0s 6ms/step - loss: -29.2118 - accuracy: 0.3898\n",
            "Epoch 274/300\n",
            "3/3 [==============================] - 0s 6ms/step - loss: -29.4501 - accuracy: 0.4055\n",
            "Epoch 275/300\n",
            "3/3 [==============================] - 0s 4ms/step - loss: -27.6035 - accuracy: 0.3977\n",
            "Epoch 276/300\n",
            "3/3 [==============================] - 0s 6ms/step - loss: -29.8671 - accuracy: 0.3742\n",
            "Epoch 277/300\n",
            "3/3 [==============================] - 0s 4ms/step - loss: -27.7226 - accuracy: 0.4367\n",
            "Epoch 278/300\n",
            "3/3 [==============================] - 0s 6ms/step - loss: -28.4374 - accuracy: 0.4016\n",
            "Epoch 279/300\n",
            "3/3 [==============================] - 0s 3ms/step - loss: -27.9609 - accuracy: 0.4211\n",
            "Epoch 280/300\n",
            "3/3 [==============================] - 0s 4ms/step - loss: -27.3057 - accuracy: 0.4172\n",
            "Epoch 281/300\n",
            "3/3 [==============================] - 0s 3ms/step - loss: -28.3779 - accuracy: 0.4016\n",
            "Epoch 282/300\n",
            "3/3 [==============================] - 0s 3ms/step - loss: -27.7226 - accuracy: 0.3937\n",
            "Epoch 283/300\n",
            "3/3 [==============================] - 0s 6ms/step - loss: -28.3183 - accuracy: 0.4016\n",
            "Epoch 284/300\n",
            "3/3 [==============================] - 0s 5ms/step - loss: -28.1992 - accuracy: 0.4328\n",
            "Epoch 285/300\n",
            "3/3 [==============================] - 0s 2ms/step - loss: -26.1143 - accuracy: 0.4211\n",
            "Epoch 286/300\n",
            "3/3 [==============================] - 0s 3ms/step - loss: -27.0674 - accuracy: 0.4211\n",
            "Epoch 287/300\n",
            "3/3 [==============================] - 0s 4ms/step - loss: -26.8291 - accuracy: 0.4016\n",
            "Epoch 288/300\n",
            "3/3 [==============================] - 0s 2ms/step - loss: -27.8418 - accuracy: 0.3937\n",
            "Epoch 289/300\n",
            "3/3 [==============================] - 0s 3ms/step - loss: -25.7569 - accuracy: 0.4172\n",
            "Epoch 290/300\n",
            "3/3 [==============================] - 0s 2ms/step - loss: -27.1865 - accuracy: 0.4094\n",
            "Epoch 291/300\n",
            "3/3 [==============================] - 0s 4ms/step - loss: -28.6757 - accuracy: 0.3937\n",
            "Epoch 292/300\n",
            "3/3 [==============================] - 0s 2ms/step - loss: -27.1270 - accuracy: 0.4172\n",
            "Epoch 293/300\n",
            "3/3 [==============================] - 0s 5ms/step - loss: -29.0927 - accuracy: 0.4133\n",
            "Epoch 294/300\n",
            "3/3 [==============================] - 0s 4ms/step - loss: -26.2930 - accuracy: 0.4211\n",
            "Epoch 295/300\n",
            "3/3 [==============================] - 0s 3ms/step - loss: -26.1739 - accuracy: 0.4094\n",
            "Epoch 296/300\n",
            "3/3 [==============================] - 0s 2ms/step - loss: -25.0421 - accuracy: 0.4406\n",
            "Epoch 297/300\n",
            "3/3 [==============================] - 0s 5ms/step - loss: -29.5692 - accuracy: 0.3625\n",
            "Epoch 298/300\n",
            "3/3 [==============================] - 0s 2ms/step - loss: -24.8038 - accuracy: 0.4562\n",
            "Epoch 299/300\n",
            "3/3 [==============================] - 0s 2ms/step - loss: -31.0584 - accuracy: 0.3781\n",
            "Epoch 300/300\n",
            "3/3 [==============================] - 0s 2ms/step - loss: -25.1612 - accuracy: 0.4289\n"
          ],
          "name": "stdout"
        },
        {
          "output_type": "execute_result",
          "data": {
            "text/plain": [
              "<tensorflow.python.keras.callbacks.History at 0x7f367b8d2f90>"
            ]
          },
          "metadata": {
            "tags": []
          },
          "execution_count": 30
        }
      ]
    },
    {
      "cell_type": "code",
      "metadata": {
        "colab": {
          "base_uri": "https://localhost:8080/"
        },
        "id": "xlW-eSGu1f6Z",
        "outputId": "e9e34f4a-525b-47e5-c494-d2bab1fe1087"
      },
      "source": [
        "_ , accuracy = model_fourth.evaluate(X_test, y_test)\n",
        "print('Accuracy: %.4f' % (accuracy*100))"
      ],
      "execution_count": 31,
      "outputs": [
        {
          "output_type": "stream",
          "text": [
            "WARNING:tensorflow:5 out of the last 5 calls to <function Model.make_test_function.<locals>.test_function at 0x7f367b8904d0> triggered tf.function retracing. Tracing is expensive and the excessive number of tracings could be due to (1) creating @tf.function repeatedly in a loop, (2) passing tensors with different shapes, (3) passing Python objects instead of tensors. For (1), please define your @tf.function outside of the loop. For (2), @tf.function has experimental_relax_shapes=True option that relaxes argument shapes that can avoid unnecessary retracing. For (3), please refer to https://www.tensorflow.org/guide/function#controlling_retracing and https://www.tensorflow.org/api_docs/python/tf/function for  more details.\n",
            "1/1 [==============================] - 0s 126ms/step - loss: -29.7723 - accuracy: 0.3810\n",
            "Accuracy: 38.0952\n"
          ],
          "name": "stdout"
        }
      ]
    },
    {
      "cell_type": "markdown",
      "metadata": {
        "id": "TfEB2UCU1jL0"
      },
      "source": [
        "# Выводы"
      ]
    },
    {
      "cell_type": "markdown",
      "metadata": {
        "id": "hHK3m87d1lPw"
      },
      "source": [
        "* Все модели получили одинаковый результат\n",
        "* Время на обучение нейронной сети прямо пропорционально количеству эпох обучения\n",
        "* Увеличение количества эпох не улучшило качество модели\n",
        "* Качество моделей на основе нейронных сетей хуже качества всех классических моделей, это связано с очень малым объемом обучающей выборки"
      ]
    },
    {
      "cell_type": "markdown",
      "metadata": {
        "id": "cSoOqP_01uAt"
      },
      "source": [
        "# Сохранение модели"
      ]
    },
    {
      "cell_type": "code",
      "metadata": {
        "colab": {
          "base_uri": "https://localhost:8080/"
        },
        "id": "r28tg4m11xbc",
        "outputId": "6eb9f1fe-6e86-48f5-e3da-307b7351718b"
      },
      "source": [
        "model_fourth.save('../keras_models/model_fourth')"
      ],
      "execution_count": 32,
      "outputs": [
        {
          "output_type": "stream",
          "text": [
            "INFO:tensorflow:Assets written to: model_fourth/assets\n"
          ],
          "name": "stdout"
        }
      ]
    }
  ]
}